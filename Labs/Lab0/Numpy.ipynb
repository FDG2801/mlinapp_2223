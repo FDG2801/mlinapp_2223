{
  "cells": [
    {
      "cell_type": "markdown",
      "id": "nutritional-electricity",
      "metadata": {
        "id": "nutritional-electricity"
      },
      "source": [
        "## Numpy"
      ]
    },
    {
      "cell_type": "code",
      "execution_count": 1,
      "id": "related-notice",
      "metadata": {
        "id": "related-notice"
      },
      "outputs": [],
      "source": [
        "import numpy as np"
      ]
    },
    {
      "cell_type": "markdown",
      "id": "eligible-floating",
      "metadata": {
        "id": "eligible-floating"
      },
      "source": [
        "### Basic exercises "
      ]
    },
    {
      "cell_type": "markdown",
      "id": "accomplished-toddler",
      "metadata": {
        "id": "accomplished-toddler"
      },
      "source": [
        "####  Ceate a 1D array of numbers from 0 to 9"
      ]
    },
    {
      "cell_type": "code",
      "execution_count": 3,
      "id": "final-account",
      "metadata": {
        "colab": {
          "base_uri": "https://localhost:8080/"
        },
        "id": "final-account",
        "outputId": "fc1ac699-410e-4133-8615-2504313bfd5d"
      },
      "outputs": [
        {
          "output_type": "execute_result",
          "data": {
            "text/plain": [
              "array([0, 1, 2, 3, 4, 5, 6, 7, 8, 9])"
            ]
          },
          "metadata": {},
          "execution_count": 3
        }
      ],
      "source": [
        "# Solution\n",
        "x = np.arange(10)\n",
        "x"
      ]
    },
    {
      "cell_type": "markdown",
      "id": "necessary-lingerie",
      "metadata": {
        "id": "necessary-lingerie"
      },
      "source": [
        "#### Create a 3×3 numpy array of all True’s"
      ]
    },
    {
      "cell_type": "code",
      "execution_count": 5,
      "id": "present-response",
      "metadata": {
        "colab": {
          "base_uri": "https://localhost:8080/"
        },
        "id": "present-response",
        "outputId": "ce5ad091-cee5-45e3-c9f0-10d050ca5513"
      },
      "outputs": [
        {
          "output_type": "execute_result",
          "data": {
            "text/plain": [
              "array([[ True,  True,  True],\n",
              "       [ True,  True,  True],\n",
              "       [ True,  True,  True]])"
            ]
          },
          "metadata": {},
          "execution_count": 5
        }
      ],
      "source": [
        "# Solution\n",
        "x=np.full((3, 3), True)\n",
        "x"
      ]
    },
    {
      "cell_type": "markdown",
      "id": "former-shoulder",
      "metadata": {
        "id": "former-shoulder"
      },
      "source": [
        "#### Replace all odd numbers in arr with -1"
      ]
    },
    {
      "cell_type": "code",
      "execution_count": 6,
      "id": "informational-enhancement",
      "metadata": {
        "colab": {
          "base_uri": "https://localhost:8080/"
        },
        "id": "informational-enhancement",
        "outputId": "6815a3cc-5753-4550-cc14-953054c01491"
      },
      "outputs": [
        {
          "output_type": "execute_result",
          "data": {
            "text/plain": [
              "array([-1,  1, -1,  3, -1,  5, -1,  7, -1,  9])"
            ]
          },
          "metadata": {},
          "execution_count": 6
        }
      ],
      "source": [
        "# Input\n",
        "arr = np.arange(10)\n",
        "# Solution\n",
        "arr[arr%2==0] = -1\n",
        "arr"
      ]
    },
    {
      "cell_type": "markdown",
      "id": "promotional-justice",
      "metadata": {
        "id": "promotional-justice"
      },
      "source": [
        "#### Convert a 1D array to a 2D array with 2 rows"
      ]
    },
    {
      "cell_type": "code",
      "execution_count": 14,
      "id": "chubby-decrease",
      "metadata": {
        "colab": {
          "base_uri": "https://localhost:8080/"
        },
        "id": "chubby-decrease",
        "outputId": "fcb7d716-4039-4a44-9b2b-0d06c32e4447"
      },
      "outputs": [
        {
          "output_type": "stream",
          "name": "stdout",
          "text": [
            "[0 1 2 3 4 5 6 7 8 9]\n"
          ]
        },
        {
          "output_type": "execute_result",
          "data": {
            "text/plain": [
              "array([[0, 1, 2, 3, 4],\n",
              "       [5, 6, 7, 8, 9]])"
            ]
          },
          "metadata": {},
          "execution_count": 14
        }
      ],
      "source": [
        "# Input\n",
        "arr = np.arange(10)\n",
        "print(arr)\n",
        "\n",
        "# Solution\n",
        "arr2d=np.reshape(arr,(2,-1))\n",
        "arr2d"
      ]
    },
    {
      "cell_type": "markdown",
      "id": "usual-medicine",
      "metadata": {
        "id": "usual-medicine"
      },
      "source": [
        "#### Stack arrays a and b vertically and then horizontally"
      ]
    },
    {
      "cell_type": "code",
      "execution_count": 19,
      "id": "sustained-retreat",
      "metadata": {
        "colab": {
          "base_uri": "https://localhost:8080/"
        },
        "id": "sustained-retreat",
        "outputId": "03daaf89-81aa-49ec-a589-1372977230b3"
      },
      "outputs": [
        {
          "output_type": "stream",
          "name": "stdout",
          "text": [
            "[[0 1 2 3 4]\n",
            " [5 6 7 8 9]\n",
            " [1 1 1 1 1]\n",
            " [1 1 1 1 1]]\n",
            "[[0 1 2 3 4 1 1 1 1 1]\n",
            " [5 6 7 8 9 1 1 1 1 1]]\n"
          ]
        }
      ],
      "source": [
        "# Input\n",
        "a = np.arange(10).reshape(2, -1)\n",
        "b = np.repeat(1, 10).reshape(2, -1)\n",
        "\n",
        "# Solution\n",
        "vert=np.vstack((a,b))\n",
        "orr=np.hstack((a,b))\n",
        "print(vert)\n",
        "print(orr)"
      ]
    },
    {
      "cell_type": "markdown",
      "id": "collectible-apple",
      "metadata": {
        "id": "collectible-apple"
      },
      "source": [
        "#### Find positions where elements of a and b match"
      ]
    },
    {
      "cell_type": "code",
      "execution_count": 20,
      "id": "incident-antigua",
      "metadata": {
        "colab": {
          "base_uri": "https://localhost:8080/"
        },
        "id": "incident-antigua",
        "outputId": "0d95c085-c0e2-45da-dcb2-dc9052715132"
      },
      "outputs": [
        {
          "output_type": "stream",
          "name": "stdout",
          "text": [
            "(array([1, 3, 5, 7]),)\n"
          ]
        }
      ],
      "source": [
        "# Input\n",
        "a = np.array([1, 2, 3, 2, 3, 4, 3, 4, 5, 6])\n",
        "b = np.array([7, 2, 10, 2, 7, 4, 9, 4, 9, 8])\n",
        "\n",
        "# Solution\n",
        "indexes=np.where(a==b)\n",
        "print(indexes)"
      ]
    },
    {
      "cell_type": "markdown",
      "id": "aggregate-difference",
      "metadata": {
        "id": "aggregate-difference"
      },
      "source": [
        "####  Get all items between 5 and 10 from a"
      ]
    },
    {
      "cell_type": "code",
      "execution_count": 22,
      "id": "nonprofit-internet",
      "metadata": {
        "colab": {
          "base_uri": "https://localhost:8080/"
        },
        "id": "nonprofit-internet",
        "outputId": "c100a8a1-925a-48c3-ec79-24304663473b"
      },
      "outputs": [
        {
          "output_type": "stream",
          "name": "stdout",
          "text": [
            "(array([ 5,  6,  7,  8,  9, 10]),)\n"
          ]
        }
      ],
      "source": [
        "# Input\n",
        "a = np.arange(15)\n",
        "\n",
        "# Solutions\n",
        "new_a=np.where(np.logical_and(a>=5,a<=10))\n",
        "print(new_a)"
      ]
    },
    {
      "cell_type": "markdown",
      "id": "arctic-frequency",
      "metadata": {
        "id": "arctic-frequency"
      },
      "source": [
        "#### Get the positions of top 5 maximum values in a given array a"
      ]
    },
    {
      "cell_type": "code",
      "execution_count": 26,
      "id": "exclusive-belize",
      "metadata": {
        "colab": {
          "base_uri": "https://localhost:8080/"
        },
        "id": "exclusive-belize",
        "outputId": "ccbac40e-3182-4937-d250-5b6446a5edd8"
      },
      "outputs": [
        {
          "output_type": "stream",
          "name": "stdout",
          "text": [
            "[27.62684215 14.64009987 21.80136195 42.39403048  1.23122395  6.95688692\n",
            " 33.86670515 41.466785    7.69862289 29.17957314 44.67477576 11.25090398\n",
            " 10.08108276  6.31046763 11.76517714 48.95256545 40.77247431  9.42510962\n",
            " 40.99501269 14.42961361]\n",
            "TOP FIVE:  [15 10  3  7 18]\n",
            "TOP FIVE:  [48.95256545 44.67477576 42.39403048 41.466785   40.99501269]\n"
          ]
        }
      ],
      "source": [
        "# Input\n",
        "np.random.seed(100)\n",
        "a = np.random.uniform(1, 50, 20)\n",
        "print(a)\n",
        "\n",
        "# Solution:\n",
        "\n",
        "# Indexes\n",
        "top5=a.argsort()[-5:][::-1]\n",
        "print(\"TOP FIVE: \",top5)\n",
        "\n",
        "# values\n",
        "\n",
        "y = a.copy() # <----optional, create a copy of the array\n",
        "y = np.sort(a) # sort array\n",
        "y = y[::-1] # reverse sort order\n",
        "y = y[0:5] # take a slice of the first 5\n",
        "print(\"TOP FIVE: \",y)"
      ]
    },
    {
      "cell_type": "markdown",
      "id": "interim-rental",
      "metadata": {
        "id": "interim-rental"
      },
      "source": [
        "#### Compute the min-by-max (i.e. min/max) for each row for given 2d numpy array (see [apply_along_axis](https://numpy.org/doc/stable/reference/generated/numpy.apply_along_axis.html#numpy-apply-along-axis))"
      ]
    },
    {
      "cell_type": "code",
      "execution_count": 27,
      "id": "prepared-october",
      "metadata": {
        "colab": {
          "base_uri": "https://localhost:8080/"
        },
        "id": "prepared-october",
        "outputId": "889d54df-6e78-4c99-d500-fd36733666a5"
      },
      "outputs": [
        {
          "output_type": "stream",
          "name": "stdout",
          "text": [
            "[[9 9 4]\n",
            " [8 8 1]\n",
            " [5 3 6]\n",
            " [3 3 3]\n",
            " [2 1 9]]\n",
            "[0.44444444 0.125      0.5        1.         0.11111111]\n"
          ]
        }
      ],
      "source": [
        "# Input\n",
        "np.random.seed(100)\n",
        "a = np.random.randint(1,10, [5,3])\n",
        "print(a)\n",
        "\n",
        "# Solution\n",
        "new_a=np.min(a, axis = 1)/np.max(a,axis = 1)\n",
        "print(new_a)"
      ]
    },
    {
      "cell_type": "markdown",
      "id": "composed-exclusive",
      "metadata": {
        "id": "composed-exclusive"
      },
      "source": [
        "####  Find the duplicate entries in the given numpy array and mark them as True. First time occurrences should be False."
      ]
    },
    {
      "cell_type": "code",
      "execution_count": 28,
      "id": "brutal-devon",
      "metadata": {
        "colab": {
          "base_uri": "https://localhost:8080/"
        },
        "id": "brutal-devon",
        "outputId": "3e16ffd8-ccb7-4a4b-db6d-6c6bb79dfbea"
      },
      "outputs": [
        {
          "output_type": "stream",
          "name": "stdout",
          "text": [
            "Array:  [0 0 3 0 2 4 2 2 2 2]\n"
          ]
        },
        {
          "output_type": "execute_result",
          "data": {
            "text/plain": [
              "array([False,  True, False,  True, False, False,  True,  True,  True,\n",
              "        True])"
            ]
          },
          "metadata": {},
          "execution_count": 28
        }
      ],
      "source": [
        "# Input\n",
        "np.random.seed(100)\n",
        "a = np.random.randint(0, 5, 10)\n",
        "print('Array: ', a)\n",
        "\n",
        "# Solution\n",
        "uniques = np.unique(a, True)[1]\n",
        "result = a == a\n",
        "result[uniques] = False\n",
        "result"
      ]
    },
    {
      "cell_type": "markdown",
      "id": "returning-province",
      "metadata": {
        "id": "returning-province"
      },
      "source": [
        "#### Find the index of 5th repetition of number 1 in x\n",
        "Make use of numpy.where"
      ]
    },
    {
      "cell_type": "code",
      "execution_count": 32,
      "id": "informal-encounter",
      "metadata": {
        "colab": {
          "base_uri": "https://localhost:8080/"
        },
        "id": "informal-encounter",
        "outputId": "1b5d207e-3a1a-44bc-a774-194ffb6e88f0"
      },
      "outputs": [
        {
          "output_type": "stream",
          "name": "stdout",
          "text": [
            "8\n"
          ]
        }
      ],
      "source": [
        "# Input\n",
        "x = np.array([1, 2, 1, 1, 3, 4, 3, 1, 1, 2, 1, 1, 2])\n",
        "n = 5\n",
        "# Soluzione\n",
        "new_a=np.where(x == 1)[0][4]\n",
        "print(new_a)"
      ]
    },
    {
      "cell_type": "markdown",
      "id": "compliant-opinion",
      "metadata": {
        "id": "compliant-opinion"
      },
      "source": [
        "#### Compute the moving average of window size 3, for the given 1D array\n",
        "Make use of numpy.convolve"
      ]
    },
    {
      "cell_type": "code",
      "execution_count": 46,
      "id": "vulnerable-secretariat",
      "metadata": {
        "colab": {
          "base_uri": "https://localhost:8080/"
        },
        "id": "vulnerable-secretariat",
        "outputId": "88940a21-b0b9-4737-a923-1ca528d24208"
      },
      "outputs": [
        {
          "output_type": "stream",
          "name": "stdout",
          "text": [
            "[6.33333333 6.         5.66666667 4.66666667 3.66666667 2.\n",
            " 3.66666667 3.        ]\n"
          ]
        }
      ],
      "source": [
        "# Input\n",
        "arr = np.array([8, 8, 3, 7, 7, 0, 4, 2, 5, 2])\n",
        "\n",
        "# Solution\n",
        "convolve=np.convolve(arr, np.ones(3)/3, mode='valid')\n",
        "print(convolve)"
      ]
    },
    {
      "cell_type": "markdown",
      "id": "handled-function",
      "metadata": {
        "id": "handled-function"
      },
      "source": [
        "### Iris dataset"
      ]
    },
    {
      "cell_type": "markdown",
      "id": "muslim-coaching",
      "metadata": {
        "id": "muslim-coaching"
      },
      "source": [
        "#### Import the iris dataset from iris.txt\n",
        "See np.genfromtxt, load the dataset with dtype=np.str"
      ]
    },
    {
      "cell_type": "code",
      "source": [
        "from google.colab import drive\n",
        "drive.mount('/content/drive')"
      ],
      "metadata": {
        "colab": {
          "base_uri": "https://localhost:8080/"
        },
        "id": "2mUFMOzf-oE7",
        "outputId": "19a0d862-017d-4d1e-b1ab-492325405b9c"
      },
      "id": "2mUFMOzf-oE7",
      "execution_count": 2,
      "outputs": [
        {
          "output_type": "stream",
          "name": "stdout",
          "text": [
            "Mounted at /content/drive\n"
          ]
        }
      ]
    },
    {
      "cell_type": "code",
      "execution_count": 55,
      "id": "jewish-carolina",
      "metadata": {
        "colab": {
          "base_uri": "https://localhost:8080/"
        },
        "id": "jewish-carolina",
        "outputId": "96df1899-15af-4188-d88d-40e1832f0144"
      },
      "outputs": [
        {
          "output_type": "stream",
          "name": "stdout",
          "text": [
            "[['5.1' '3.5' '1.4' '0.2' 'Iris-setosa']\n",
            " ['4.9' '3.0' '1.4' '0.2' 'Iris-setosa']\n",
            " ['4.7' '3.2' '1.3' '0.2' 'Iris-setosa']\n",
            " ['4.6' '3.1' '1.5' '0.2' 'Iris-setosa']\n",
            " ['5.0' '3.6' '1.4' '0.2' 'Iris-setosa']\n",
            " ['5.4' '3.9' '1.7' '0.4' 'Iris-setosa']\n",
            " ['4.6' '3.4' '1.4' '0.3' 'Iris-setosa']\n",
            " ['5.0' '3.4' '1.5' '0.2' 'Iris-setosa']\n",
            " ['4.4' '2.9' '1.4' '0.2' 'Iris-setosa']\n",
            " ['4.9' '3.1' '1.5' '0.1' 'Iris-setosa']\n",
            " ['5.4' '3.7' '1.5' '0.2' 'Iris-setosa']\n",
            " ['4.8' '3.4' '1.6' '0.2' 'Iris-setosa']\n",
            " ['4.8' '3.0' '1.4' '0.1' 'Iris-setosa']\n",
            " ['4.3' '3.0' '1.1' '0.1' 'Iris-setosa']\n",
            " ['5.8' '4.0' '1.2' '0.2' 'Iris-setosa']\n",
            " ['5.7' '4.4' '1.5' '0.4' 'Iris-setosa']\n",
            " ['5.4' '3.9' '1.3' '0.4' 'Iris-setosa']\n",
            " ['5.1' '3.5' '1.4' '0.3' 'Iris-setosa']\n",
            " ['5.7' '3.8' '1.7' '0.3' 'Iris-setosa']\n",
            " ['5.1' '3.8' '1.5' '0.3' 'Iris-setosa']\n",
            " ['5.4' '3.4' '1.7' '0.2' 'Iris-setosa']\n",
            " ['5.1' '3.7' '1.5' '0.4' 'Iris-setosa']\n",
            " ['4.6' '3.6' '1.0' '0.2' 'Iris-setosa']\n",
            " ['5.1' '3.3' '1.7' '0.5' 'Iris-setosa']\n",
            " ['4.8' '3.4' '1.9' '0.2' 'Iris-setosa']\n",
            " ['5.0' '3.0' '1.6' '0.2' 'Iris-setosa']\n",
            " ['5.0' '3.4' '1.6' '0.4' 'Iris-setosa']\n",
            " ['5.2' '3.5' '1.5' '0.2' 'Iris-setosa']\n",
            " ['5.2' '3.4' '1.4' '0.2' 'Iris-setosa']\n",
            " ['4.7' '3.2' '1.6' '0.2' 'Iris-setosa']\n",
            " ['4.8' '3.1' '1.6' '0.2' 'Iris-setosa']\n",
            " ['5.4' '3.4' '1.5' '0.4' 'Iris-setosa']\n",
            " ['5.2' '4.1' '1.5' '0.1' 'Iris-setosa']\n",
            " ['5.5' '4.2' '1.4' '0.2' 'Iris-setosa']\n",
            " ['4.9' '3.1' '1.5' '0.1' 'Iris-setosa']\n",
            " ['5.0' '3.2' '1.2' '0.2' 'Iris-setosa']\n",
            " ['5.5' '3.5' '1.3' '0.2' 'Iris-setosa']\n",
            " ['4.9' '3.1' '1.5' '0.1' 'Iris-setosa']\n",
            " ['4.4' '3.0' '1.3' '0.2' 'Iris-setosa']\n",
            " ['5.1' '3.4' '1.5' '0.2' 'Iris-setosa']\n",
            " ['5.0' '3.5' '1.3' '0.3' 'Iris-setosa']\n",
            " ['4.5' '2.3' '1.3' '0.3' 'Iris-setosa']\n",
            " ['4.4' '3.2' '1.3' '0.2' 'Iris-setosa']\n",
            " ['5.0' '3.5' '1.6' '0.6' 'Iris-setosa']\n",
            " ['5.1' '3.8' '1.9' '0.4' 'Iris-setosa']\n",
            " ['4.8' '3.0' '1.4' '0.3' 'Iris-setosa']\n",
            " ['5.1' '3.8' '1.6' '0.2' 'Iris-setosa']\n",
            " ['4.6' '3.2' '1.4' '0.2' 'Iris-setosa']\n",
            " ['5.3' '3.7' '1.5' '0.2' 'Iris-setosa']\n",
            " ['5.0' '3.3' '1.4' '0.2' 'Iris-setosa']\n",
            " ['7.0' '3.2' '4.7' '1.4' 'Iris-versicolor']\n",
            " ['6.4' '3.2' '4.5' '1.5' 'Iris-versicolor']\n",
            " ['6.9' '3.1' '4.9' '1.5' 'Iris-versicolor']\n",
            " ['5.5' '2.3' '4.0' '1.3' 'Iris-versicolor']\n",
            " ['6.5' '2.8' '4.6' '1.5' 'Iris-versicolor']\n",
            " ['5.7' '2.8' '4.5' '1.3' 'Iris-versicolor']\n",
            " ['6.3' '3.3' '4.7' '1.6' 'Iris-versicolor']\n",
            " ['4.9' '2.4' '3.3' '1.0' 'Iris-versicolor']\n",
            " ['6.6' '2.9' '4.6' '1.3' 'Iris-versicolor']\n",
            " ['5.2' '2.7' '3.9' '1.4' 'Iris-versicolor']\n",
            " ['5.0' '2.0' '3.5' '1.0' 'Iris-versicolor']\n",
            " ['5.9' '3.0' '4.2' '1.5' 'Iris-versicolor']\n",
            " ['6.0' '2.2' '4.0' '1.0' 'Iris-versicolor']\n",
            " ['6.1' '2.9' '4.7' '1.4' 'Iris-versicolor']\n",
            " ['5.6' '2.9' '3.6' '1.3' 'Iris-versicolor']\n",
            " ['6.7' '3.1' '4.4' '1.4' 'Iris-versicolor']\n",
            " ['5.6' '3.0' '4.5' '1.5' 'Iris-versicolor']\n",
            " ['5.8' '2.7' '4.1' '1.0' 'Iris-versicolor']\n",
            " ['6.2' '2.2' '4.5' '1.5' 'Iris-versicolor']\n",
            " ['5.6' '2.5' '3.9' '1.1' 'Iris-versicolor']\n",
            " ['5.9' '3.2' '4.8' '1.8' 'Iris-versicolor']\n",
            " ['6.1' '2.8' '4.0' '1.3' 'Iris-versicolor']\n",
            " ['6.3' '2.5' '4.9' '1.5' 'Iris-versicolor']\n",
            " ['6.1' '2.8' '4.7' '1.2' 'Iris-versicolor']\n",
            " ['6.4' '2.9' '4.3' '1.3' 'Iris-versicolor']\n",
            " ['6.6' '3.0' '4.4' '1.4' 'Iris-versicolor']\n",
            " ['6.8' '2.8' '4.8' '1.4' 'Iris-versicolor']\n",
            " ['6.7' '3.0' '5.0' '1.7' 'Iris-versicolor']\n",
            " ['6.0' '2.9' '4.5' '1.5' 'Iris-versicolor']\n",
            " ['5.7' '2.6' '3.5' '1.0' 'Iris-versicolor']\n",
            " ['5.5' '2.4' '3.8' '1.1' 'Iris-versicolor']\n",
            " ['5.5' '2.4' '3.7' '1.0' 'Iris-versicolor']\n",
            " ['5.8' '2.7' '3.9' '1.2' 'Iris-versicolor']\n",
            " ['6.0' '2.7' '5.1' '1.6' 'Iris-versicolor']\n",
            " ['5.4' '3.0' '4.5' '1.5' 'Iris-versicolor']\n",
            " ['6.0' '3.4' '4.5' '1.6' 'Iris-versicolor']\n",
            " ['6.7' '3.1' '4.7' '1.5' 'Iris-versicolor']\n",
            " ['6.3' '2.3' '4.4' '1.3' 'Iris-versicolor']\n",
            " ['5.6' '3.0' '4.1' '1.3' 'Iris-versicolor']\n",
            " ['5.5' '2.5' '4.0' '1.3' 'Iris-versicolor']\n",
            " ['5.5' '2.6' '4.4' '1.2' 'Iris-versicolor']\n",
            " ['6.1' '3.0' '4.6' '1.4' 'Iris-versicolor']\n",
            " ['5.8' '2.6' '4.0' '1.2' 'Iris-versicolor']\n",
            " ['5.0' '2.3' '3.3' '1.0' 'Iris-versicolor']\n",
            " ['5.6' '2.7' '4.2' '1.3' 'Iris-versicolor']\n",
            " ['5.7' '3.0' '4.2' '1.2' 'Iris-versicolor']\n",
            " ['5.7' '2.9' '4.2' '1.3' 'Iris-versicolor']\n",
            " ['6.2' '2.9' '4.3' '1.3' 'Iris-versicolor']\n",
            " ['5.1' '2.5' '3.0' '1.1' 'Iris-versicolor']\n",
            " ['5.7' '2.8' '4.1' '1.3' 'Iris-versicolor']\n",
            " ['6.3' '3.3' '6.0' '2.5' 'Iris-virginica']\n",
            " ['5.8' '2.7' '5.1' '1.9' 'Iris-virginica']\n",
            " ['7.1' '3.0' '5.9' '2.1' 'Iris-virginica']\n",
            " ['6.3' '2.9' '5.6' '1.8' 'Iris-virginica']\n",
            " ['6.5' '3.0' '5.8' '2.2' 'Iris-virginica']\n",
            " ['7.6' '3.0' '6.6' '2.1' 'Iris-virginica']\n",
            " ['4.9' '2.5' '4.5' '1.7' 'Iris-virginica']\n",
            " ['7.3' '2.9' '6.3' '1.8' 'Iris-virginica']\n",
            " ['6.7' '2.5' '5.8' '1.8' 'Iris-virginica']\n",
            " ['7.2' '3.6' '6.1' '2.5' 'Iris-virginica']\n",
            " ['6.5' '3.2' '5.1' '2.0' 'Iris-virginica']\n",
            " ['6.4' '2.7' '5.3' '1.9' 'Iris-virginica']\n",
            " ['6.8' '3.0' '5.5' '2.1' 'Iris-virginica']\n",
            " ['5.7' '2.5' '5.0' '2.0' 'Iris-virginica']\n",
            " ['5.8' '2.8' '5.1' '2.4' 'Iris-virginica']\n",
            " ['6.4' '3.2' '5.3' '2.3' 'Iris-virginica']\n",
            " ['6.5' '3.0' '5.5' '1.8' 'Iris-virginica']\n",
            " ['7.7' '3.8' '6.7' '2.2' 'Iris-virginica']\n",
            " ['7.7' '2.6' '6.9' '2.3' 'Iris-virginica']\n",
            " ['6.0' '2.2' '5.0' '1.5' 'Iris-virginica']\n",
            " ['6.9' '3.2' '5.7' '2.3' 'Iris-virginica']\n",
            " ['5.6' '2.8' '4.9' '2.0' 'Iris-virginica']\n",
            " ['7.7' '2.8' '6.7' '2.0' 'Iris-virginica']\n",
            " ['6.3' '2.7' '4.9' '1.8' 'Iris-virginica']\n",
            " ['6.7' '3.3' '5.7' '2.1' 'Iris-virginica']\n",
            " ['7.2' '3.2' '6.0' '1.8' 'Iris-virginica']\n",
            " ['6.2' '2.8' '4.8' '1.8' 'Iris-virginica']\n",
            " ['6.1' '3.0' '4.9' '1.8' 'Iris-virginica']\n",
            " ['6.4' '2.8' '5.6' '2.1' 'Iris-virginica']\n",
            " ['7.2' '3.0' '5.8' '1.6' 'Iris-virginica']\n",
            " ['7.4' '2.8' '6.1' '1.9' 'Iris-virginica']\n",
            " ['7.9' '3.8' '6.4' '2.0' 'Iris-virginica']\n",
            " ['6.4' '2.8' '5.6' '2.2' 'Iris-virginica']\n",
            " ['6.3' '2.8' '5.1' '1.5' 'Iris-virginica']\n",
            " ['6.1' '2.6' '5.6' '1.4' 'Iris-virginica']\n",
            " ['7.7' '3.0' '6.1' '2.3' 'Iris-virginica']\n",
            " ['6.3' '3.4' '5.6' '2.4' 'Iris-virginica']\n",
            " ['6.4' '3.1' '5.5' '1.8' 'Iris-virginica']\n",
            " ['6.0' '3.0' '4.8' '1.8' 'Iris-virginica']\n",
            " ['6.9' '3.1' '5.4' '2.1' 'Iris-virginica']\n",
            " ['6.7' '3.1' '5.6' '2.4' 'Iris-virginica']\n",
            " ['6.9' '3.1' '5.1' '2.3' 'Iris-virginica']\n",
            " ['5.8' '2.7' '5.1' '1.9' 'Iris-virginica']\n",
            " ['6.8' '3.2' '5.9' '2.3' 'Iris-virginica']\n",
            " ['6.7' '3.3' '5.7' '2.5' 'Iris-virginica']\n",
            " ['6.7' '3.0' '5.2' '2.3' 'Iris-virginica']\n",
            " ['6.3' '2.5' '5.0' '1.9' 'Iris-virginica']\n",
            " ['6.5' '3.0' '5.2' '2.0' 'Iris-virginica']\n",
            " ['6.2' '3.4' '5.4' '2.3' 'Iris-virginica']\n",
            " ['5.9' '3.0' '5.1' '1.8' 'Iris-virginica']]\n"
          ]
        },
        {
          "output_type": "stream",
          "name": "stderr",
          "text": [
            "<ipython-input-55-167b60db0684>:4: DeprecationWarning: `np.str` is a deprecated alias for the builtin `str`. To silence this warning, use `str` by itself. Doing this will not modify any behavior and is safe. If you specifically wanted the numpy scalar type, use `np.str_` here.\n",
            "Deprecated in NumPy 1.20; for more details and guidance: https://numpy.org/devdocs/release/1.20.0-notes.html#deprecations\n",
            "  dataset_iris = np.loadtxt(FILEPATH, delimiter=\",\", dtype=np.str)\n"
          ]
        }
      ],
      "source": [
        "# Input filepath\n",
        "FILEPATH = \"/content/drive/MyDrive/mlinapp/basics-data/iris.txt\"\n",
        "# Soultion\n",
        "dataset_iris = np.loadtxt(FILEPATH, delimiter=\",\", dtype=np.str)\n",
        "print(dataset_iris)"
      ]
    },
    {
      "cell_type": "markdown",
      "id": "special-death",
      "metadata": {
        "id": "special-death"
      },
      "source": [
        "#### Print the unique labels of the dataset"
      ]
    },
    {
      "cell_type": "code",
      "execution_count": 57,
      "id": "charged-shareware",
      "metadata": {
        "colab": {
          "base_uri": "https://localhost:8080/"
        },
        "id": "charged-shareware",
        "outputId": "cec5e32d-a2bf-444b-ad15-347cc6b048aa"
      },
      "outputs": [
        {
          "output_type": "stream",
          "name": "stdout",
          "text": [
            "['Iris-setosa' 'Iris-versicolor' 'Iris-virginica']\n"
          ]
        }
      ],
      "source": [
        "# Solution\n",
        "unique_labels=np.unique(dataset_iris[:,-1])\n",
        "print(unique_labels)"
      ]
    },
    {
      "cell_type": "markdown",
      "id": "objective-repeat",
      "metadata": {
        "id": "objective-repeat"
      },
      "source": [
        "#### Find how many samples (i.e. rows) we have for each unique label"
      ]
    },
    {
      "cell_type": "code",
      "execution_count": 65,
      "id": "amateur-train",
      "metadata": {
        "colab": {
          "base_uri": "https://localhost:8080/"
        },
        "id": "amateur-train",
        "outputId": "948ba6a8-8492-4734-995e-cc25b2a1cd09"
      },
      "outputs": [
        {
          "output_type": "stream",
          "name": "stdout",
          "text": [
            "[ 6 28  7  7  1  1  8  4  7 20 20 26 11  6 12  7  7  6  6 12  6 11  5  9\n",
            " 14 10 27 12 13  8 12  8  4  4  7  5  6  4  5  3  8  9  7  7  9 11 14 17\n",
            "  6  3  8 10 12 11 10  5  8  9  4 10  8  5  3 10  3  5  1  1  3  1  1  1\n",
            "  4  1 50 50 50]\n"
          ]
        }
      ],
      "source": [
        "# Solution\n",
        "unique,counts = np.unique(dataset_iris, return_counts=True)\n",
        "print(counts)"
      ]
    },
    {
      "cell_type": "markdown",
      "id": "worst-budget",
      "metadata": {
        "id": "worst-budget"
      },
      "source": [
        "#### Find the mean, median, standard deviation of iris's sepallength (1st column)\n",
        "See np.genfromtxt, load only the 1st column with the appropiate data type"
      ]
    },
    {
      "cell_type": "code",
      "execution_count": 68,
      "id": "agreed-hundred",
      "metadata": {
        "colab": {
          "base_uri": "https://localhost:8080/"
        },
        "id": "agreed-hundred",
        "outputId": "62dcda0f-668f-4b50-ce16-35a432a6713e"
      },
      "outputs": [
        {
          "output_type": "stream",
          "name": "stdout",
          "text": [
            "5.843333333333334 5.8 0.8253012917851409\n"
          ]
        }
      ],
      "source": [
        "# Solution\n",
        "iris = np.genfromtxt(FILEPATH, delimiter=',', dtype='object')\n",
        "sepallength = np.genfromtxt(FILEPATH, delimiter=',', dtype='float', usecols=[0])\n",
        "mu, med, sd = np.mean(sepallength), np.median(sepallength), np.std(sepallength)\n",
        "print(mu, med, sd)"
      ]
    },
    {
      "cell_type": "markdown",
      "id": "liberal-knock",
      "metadata": {
        "id": "liberal-knock"
      },
      "source": [
        "####  Find the mean, median, standard deviation of iris's sepallength (1st column) for each unique labels"
      ]
    },
    {
      "cell_type": "code",
      "execution_count": 53,
      "id": "differential-virgin",
      "metadata": {
        "colab": {
          "base_uri": "https://localhost:8080/"
        },
        "id": "differential-virgin",
        "outputId": "63e6c8ee-e3ba-4b27-91b8-b5536a457b05"
      },
      "outputs": [
        {
          "output_type": "stream",
          "name": "stdout",
          "text": [
            "nan nan nan\n"
          ]
        },
        {
          "output_type": "stream",
          "name": "stderr",
          "text": [
            "<ipython-input-53-2b6db64f88a2>:2: DeprecationWarning: `np.str` is a deprecated alias for the builtin `str`. To silence this warning, use `str` by itself. Doing this will not modify any behavior and is safe. If you specifically wanted the numpy scalar type, use `np.str_` here.\n",
            "Deprecated in NumPy 1.20; for more details and guidance: https://numpy.org/devdocs/release/1.20.0-notes.html#deprecations\n",
            "  iris = np.genfromtxt(unique_labels, delimiter=',', dtype=np.str)\n"
          ]
        }
      ],
      "source": [
        "# Solution\n"
      ]
    },
    {
      "cell_type": "markdown",
      "id": "wrapped-venue",
      "metadata": {
        "id": "wrapped-venue"
      },
      "source": [
        "####  Create a new column for volume in iris, where volume is (pi x petallength x sepal_length^2)/3"
      ]
    },
    {
      "cell_type": "code",
      "execution_count": 69,
      "id": "severe-parker",
      "metadata": {
        "colab": {
          "base_uri": "https://localhost:8080/"
        },
        "id": "severe-parker",
        "outputId": "b66824d9-48b6-4c5f-ea58-b841915cf97c"
      },
      "outputs": [
        {
          "output_type": "execute_result",
          "data": {
            "text/plain": [
              "array([[b'3.0', b'1.4', b'0.2', b'Iris-setosa', 1.8849555921538759],\n",
              "       [b'3.2', b'1.3', b'0.2', b'Iris-setosa', 2.1446605848506324],\n",
              "       [b'3.1', b'1.5', b'0.2', b'Iris-setosa', 2.0127136933998613],\n",
              "       [b'3.6', b'1.4', b'0.2', b'Iris-setosa', 2.714336052701581]],\n",
              "      dtype=object)"
            ]
          },
          "metadata": {},
          "execution_count": 69
        }
      ],
      "source": [
        "# Solution\n",
        "iris_data = np.genfromtxt(FILEPATH, delimiter=',', dtype=object, usecols=[1,2,3,4], skip_header=1)\n",
        "sepallength = iris_data[:, 0].astype('float')\n",
        "petallength = iris_data[:, 2].astype('float')\n",
        "new_column = (np.pi * petallength * (sepallength**2))/3\n",
        "new_column = new_column[:, np.newaxis]\n",
        "#new_column\n",
        "# Add the new column\n",
        "out = np.hstack([iris_data, new_column])\n",
        "# output\n",
        "out[:4]"
      ]
    },
    {
      "cell_type": "markdown",
      "id": "radical-hepatitis",
      "metadata": {
        "id": "radical-hepatitis"
      },
      "source": [
        "#### Randomly sample iris's species such that setosa is twice the number of versicolor and virginica\n",
        "See [numpy.random.choice](https://numpy.org/doc/stable/reference/random/generated/numpy.random.choice.html#numpy-random-choice)"
      ]
    },
    {
      "cell_type": "code",
      "execution_count": 70,
      "id": "bigger-celebrity",
      "metadata": {
        "colab": {
          "base_uri": "https://localhost:8080/"
        },
        "id": "bigger-celebrity",
        "outputId": "8d7cb4df-58c3-462b-9d52-5dcc450544a7"
      },
      "outputs": [
        {
          "output_type": "stream",
          "name": "stdout",
          "text": [
            "(array(['Iris-setosa', 'Iris-versicolor', 'Iris-virginica'], dtype='<U15'), array([77, 37, 36]))\n"
          ]
        }
      ],
      "source": [
        "# Solution\n",
        "# Get the species column\n",
        "species = dataset_iris[:, 4]\n",
        "np.random.seed(100)\n",
        "a = np.array(['Iris-setosa', 'Iris-versicolor', 'Iris-virginica'])\n",
        "species_out = np.random.choice(a, 150, p=[0.5, 0.25, 0.25])\n",
        "print(np.unique(species_out, return_counts=True))"
      ]
    },
    {
      "cell_type": "markdown",
      "id": "aerial-clearing",
      "metadata": {
        "id": "aerial-clearing"
      },
      "source": [
        "#### Sort the iris dataset based on sepallength column"
      ]
    },
    {
      "cell_type": "code",
      "execution_count": 71,
      "id": "balanced-employer",
      "metadata": {
        "colab": {
          "base_uri": "https://localhost:8080/"
        },
        "id": "balanced-employer",
        "outputId": "be5ccfbf-302c-4168-8cba-e1a415a29032"
      },
      "outputs": [
        {
          "output_type": "stream",
          "name": "stdout",
          "text": [
            "[['4.3' '3.0' '1.1' '0.1' 'Iris-setosa']\n",
            " ['4.4' '3.2' '1.3' '0.2' 'Iris-setosa']\n",
            " ['4.4' '3.0' '1.3' '0.2' 'Iris-setosa']\n",
            " ['4.4' '2.9' '1.4' '0.2' 'Iris-setosa']\n",
            " ['4.5' '2.3' '1.3' '0.3' 'Iris-setosa']\n",
            " ['4.6' '3.6' '1.0' '0.2' 'Iris-setosa']\n",
            " ['4.6' '3.1' '1.5' '0.2' 'Iris-setosa']\n",
            " ['4.6' '3.4' '1.4' '0.3' 'Iris-setosa']\n",
            " ['4.6' '3.2' '1.4' '0.2' 'Iris-setosa']\n",
            " ['4.7' '3.2' '1.3' '0.2' 'Iris-setosa']\n",
            " ['4.7' '3.2' '1.6' '0.2' 'Iris-setosa']\n",
            " ['4.8' '3.0' '1.4' '0.1' 'Iris-setosa']\n",
            " ['4.8' '3.0' '1.4' '0.3' 'Iris-setosa']\n",
            " ['4.8' '3.4' '1.9' '0.2' 'Iris-setosa']\n",
            " ['4.8' '3.4' '1.6' '0.2' 'Iris-setosa']\n",
            " ['4.8' '3.1' '1.6' '0.2' 'Iris-setosa']\n",
            " ['4.9' '2.4' '3.3' '1.0' 'Iris-versicolor']\n",
            " ['4.9' '2.5' '4.5' '1.7' 'Iris-virginica']\n",
            " ['4.9' '3.1' '1.5' '0.1' 'Iris-setosa']\n",
            " ['4.9' '3.1' '1.5' '0.1' 'Iris-setosa']]\n"
          ]
        }
      ],
      "source": [
        "# Solution\n",
        "print(dataset_iris[dataset_iris[:,0].argsort()][:20])"
      ]
    },
    {
      "cell_type": "markdown",
      "id": "acting-purpose",
      "metadata": {
        "id": "acting-purpose"
      },
      "source": [
        "#### Find the most frequent value of petal length (3rd column) in iris dataset"
      ]
    },
    {
      "cell_type": "code",
      "execution_count": null,
      "id": "attached-interaction",
      "metadata": {
        "colab": {
          "base_uri": "https://localhost:8080/"
        },
        "id": "attached-interaction",
        "outputId": "0188b6ac-988c-4967-b342-3c9299416158"
      },
      "outputs": [
        {
          "output_type": "execute_result",
          "data": {
            "text/plain": [
              "[Ellipsis]"
            ]
          },
          "metadata": {},
          "execution_count": 24
        }
      ],
      "source": [
        "# Solution\n",
        "vals, counts = np.unique(iris[:, 2], return_counts=True)\n",
        "print(vals[np.argmax(counts)])"
      ]
    },
    {
      "cell_type": "markdown",
      "id": "dangerous-afternoon",
      "metadata": {
        "id": "dangerous-afternoon"
      },
      "source": [
        "#### Find the position of the first occurrence of a value greater than 1.0 in petalwidth 4th column of iris dataset\n",
        "\n",
        "see [np.argwhere](https://numpy.org/doc/stable/reference/generated/numpy.argwhere.html#numpy-argwhere)"
      ]
    },
    {
      "cell_type": "code",
      "execution_count": 73,
      "id": "smoking-jefferson",
      "metadata": {
        "colab": {
          "base_uri": "https://localhost:8080/"
        },
        "id": "smoking-jefferson",
        "outputId": "a3e3e463-a894-40ed-c887-113924cb5660"
      },
      "outputs": [
        {
          "output_type": "execute_result",
          "data": {
            "text/plain": [
              "array([50])"
            ]
          },
          "metadata": {},
          "execution_count": 73
        }
      ],
      "source": [
        "# Solution\n",
        "np.argwhere(iris[:, 3].astype(float) > 1.0)[0]"
      ]
    },
    {
      "cell_type": "markdown",
      "id": "abstract-palestine",
      "metadata": {
        "id": "abstract-palestine"
      },
      "source": [
        "#### Get the rows having petallength (3rd column) > 1.5 and sepallength (1st column) < 5.0"
      ]
    },
    {
      "cell_type": "code",
      "execution_count": 77,
      "id": "crazy-pillow",
      "metadata": {
        "colab": {
          "base_uri": "https://localhost:8080/"
        },
        "id": "crazy-pillow",
        "outputId": "f1366718-c977-42f5-a9ec-18e60a56c492"
      },
      "outputs": [
        {
          "output_type": "execute_result",
          "data": {
            "text/plain": [
              "array([[4.8, 3.4, 1.6, 0.2],\n",
              "       [4.8, 3.4, 1.9, 0.2],\n",
              "       [4.7, 3.2, 1.6, 0.2],\n",
              "       [4.8, 3.1, 1.6, 0.2],\n",
              "       [4.9, 2.4, 3.3, 1. ],\n",
              "       [4.9, 2.5, 4.5, 1.7]])"
            ]
          },
          "metadata": {},
          "execution_count": 77
        }
      ],
      "source": [
        "# Solution\n",
        "dataset_iris_due = np.genfromtxt(FILEPATH, delimiter=',', dtype='float', usecols=[0,1,2,3])\n",
        "condition = (dataset_iris_due[:, 2] > 1.5) & (dataset_iris_due[:, 0] < 5.0)\n",
        "dataset_iris_due[condition]"
      ]
    }
  ],
  "metadata": {
    "kernelspec": {
      "display_name": "Python 3",
      "language": "python",
      "name": "python3"
    },
    "language_info": {
      "codemirror_mode": {
        "name": "ipython",
        "version": 3
      },
      "file_extension": ".py",
      "mimetype": "text/x-python",
      "name": "python",
      "nbconvert_exporter": "python",
      "pygments_lexer": "ipython3",
      "version": "3.8.6"
    },
    "toc": {
      "base_numbering": 1,
      "nav_menu": {},
      "number_sections": true,
      "sideBar": true,
      "skip_h1_title": false,
      "title_cell": "Table of Contents",
      "title_sidebar": "Contents",
      "toc_cell": false,
      "toc_position": {
        "height": "770px",
        "left": "159px",
        "top": "177px",
        "width": "384px"
      },
      "toc_section_display": true,
      "toc_window_display": true
    },
    "colab": {
      "provenance": [],
      "toc_visible": true
    }
  },
  "nbformat": 4,
  "nbformat_minor": 5
}