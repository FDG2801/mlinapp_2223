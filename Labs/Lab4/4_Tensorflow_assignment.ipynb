{
  "nbformat": 4,
  "nbformat_minor": 0,
  "metadata": {
    "colab": {
      "provenance": [],
      "toc_visible": true
    },
    "kernelspec": {
      "name": "python3",
      "display_name": "Python 3"
    },
    "language_info": {
      "name": "python"
    },
    "accelerator": "GPU",
    "gpuClass": "standard",
    "widgets": {
      "application/vnd.jupyter.widget-state+json": {
        "e157d893a32c418c82849a8bb0dffbf8": {
          "model_module": "@jupyter-widgets/controls",
          "model_name": "HBoxModel",
          "model_module_version": "1.5.0",
          "state": {
            "_dom_classes": [],
            "_model_module": "@jupyter-widgets/controls",
            "_model_module_version": "1.5.0",
            "_model_name": "HBoxModel",
            "_view_count": null,
            "_view_module": "@jupyter-widgets/controls",
            "_view_module_version": "1.5.0",
            "_view_name": "HBoxView",
            "box_style": "",
            "children": [
              "IPY_MODEL_1775697a18e4467081d8b1d25bea596d",
              "IPY_MODEL_eaf5c35dc4b241059975e4bf74c8f0d6",
              "IPY_MODEL_8934c07b3a0d4e5e82c556a9b5221f49"
            ],
            "layout": "IPY_MODEL_58b04cb0587245de89e9b0beee1834ba"
          }
        },
        "1775697a18e4467081d8b1d25bea596d": {
          "model_module": "@jupyter-widgets/controls",
          "model_name": "HTMLModel",
          "model_module_version": "1.5.0",
          "state": {
            "_dom_classes": [],
            "_model_module": "@jupyter-widgets/controls",
            "_model_module_version": "1.5.0",
            "_model_name": "HTMLModel",
            "_view_count": null,
            "_view_module": "@jupyter-widgets/controls",
            "_view_module_version": "1.5.0",
            "_view_name": "HTMLView",
            "description": "",
            "description_tooltip": null,
            "layout": "IPY_MODEL_0fb4ad0b2ce444a9997ad7602b6c6ec6",
            "placeholder": "​",
            "style": "IPY_MODEL_c9916abe6e664bc497c8668bc0ab1018",
            "value": "Dl Completed...: 100%"
          }
        },
        "eaf5c35dc4b241059975e4bf74c8f0d6": {
          "model_module": "@jupyter-widgets/controls",
          "model_name": "FloatProgressModel",
          "model_module_version": "1.5.0",
          "state": {
            "_dom_classes": [],
            "_model_module": "@jupyter-widgets/controls",
            "_model_module_version": "1.5.0",
            "_model_name": "FloatProgressModel",
            "_view_count": null,
            "_view_module": "@jupyter-widgets/controls",
            "_view_module_version": "1.5.0",
            "_view_name": "ProgressView",
            "bar_style": "success",
            "description": "",
            "description_tooltip": null,
            "layout": "IPY_MODEL_b31d6cf1db35481a8d6629d5eba3e304",
            "max": 1,
            "min": 0,
            "orientation": "horizontal",
            "style": "IPY_MODEL_53640dd2b4784454919813e58de9e1d4",
            "value": 1
          }
        },
        "8934c07b3a0d4e5e82c556a9b5221f49": {
          "model_module": "@jupyter-widgets/controls",
          "model_name": "HTMLModel",
          "model_module_version": "1.5.0",
          "state": {
            "_dom_classes": [],
            "_model_module": "@jupyter-widgets/controls",
            "_model_module_version": "1.5.0",
            "_model_name": "HTMLModel",
            "_view_count": null,
            "_view_module": "@jupyter-widgets/controls",
            "_view_module_version": "1.5.0",
            "_view_name": "HTMLView",
            "description": "",
            "description_tooltip": null,
            "layout": "IPY_MODEL_26eda96a924443d79016b02c6c4bbe3e",
            "placeholder": "​",
            "style": "IPY_MODEL_3aecd3f4d9aa4b1fae8e15d3332b7608",
            "value": " 1/1 [00:05&lt;00:00,  3.72s/ url]"
          }
        },
        "58b04cb0587245de89e9b0beee1834ba": {
          "model_module": "@jupyter-widgets/base",
          "model_name": "LayoutModel",
          "model_module_version": "1.2.0",
          "state": {
            "_model_module": "@jupyter-widgets/base",
            "_model_module_version": "1.2.0",
            "_model_name": "LayoutModel",
            "_view_count": null,
            "_view_module": "@jupyter-widgets/base",
            "_view_module_version": "1.2.0",
            "_view_name": "LayoutView",
            "align_content": null,
            "align_items": null,
            "align_self": null,
            "border": null,
            "bottom": null,
            "display": null,
            "flex": null,
            "flex_flow": null,
            "grid_area": null,
            "grid_auto_columns": null,
            "grid_auto_flow": null,
            "grid_auto_rows": null,
            "grid_column": null,
            "grid_gap": null,
            "grid_row": null,
            "grid_template_areas": null,
            "grid_template_columns": null,
            "grid_template_rows": null,
            "height": null,
            "justify_content": null,
            "justify_items": null,
            "left": null,
            "margin": null,
            "max_height": null,
            "max_width": null,
            "min_height": null,
            "min_width": null,
            "object_fit": null,
            "object_position": null,
            "order": null,
            "overflow": null,
            "overflow_x": null,
            "overflow_y": null,
            "padding": null,
            "right": null,
            "top": null,
            "visibility": null,
            "width": null
          }
        },
        "0fb4ad0b2ce444a9997ad7602b6c6ec6": {
          "model_module": "@jupyter-widgets/base",
          "model_name": "LayoutModel",
          "model_module_version": "1.2.0",
          "state": {
            "_model_module": "@jupyter-widgets/base",
            "_model_module_version": "1.2.0",
            "_model_name": "LayoutModel",
            "_view_count": null,
            "_view_module": "@jupyter-widgets/base",
            "_view_module_version": "1.2.0",
            "_view_name": "LayoutView",
            "align_content": null,
            "align_items": null,
            "align_self": null,
            "border": null,
            "bottom": null,
            "display": null,
            "flex": null,
            "flex_flow": null,
            "grid_area": null,
            "grid_auto_columns": null,
            "grid_auto_flow": null,
            "grid_auto_rows": null,
            "grid_column": null,
            "grid_gap": null,
            "grid_row": null,
            "grid_template_areas": null,
            "grid_template_columns": null,
            "grid_template_rows": null,
            "height": null,
            "justify_content": null,
            "justify_items": null,
            "left": null,
            "margin": null,
            "max_height": null,
            "max_width": null,
            "min_height": null,
            "min_width": null,
            "object_fit": null,
            "object_position": null,
            "order": null,
            "overflow": null,
            "overflow_x": null,
            "overflow_y": null,
            "padding": null,
            "right": null,
            "top": null,
            "visibility": null,
            "width": null
          }
        },
        "c9916abe6e664bc497c8668bc0ab1018": {
          "model_module": "@jupyter-widgets/controls",
          "model_name": "DescriptionStyleModel",
          "model_module_version": "1.5.0",
          "state": {
            "_model_module": "@jupyter-widgets/controls",
            "_model_module_version": "1.5.0",
            "_model_name": "DescriptionStyleModel",
            "_view_count": null,
            "_view_module": "@jupyter-widgets/base",
            "_view_module_version": "1.2.0",
            "_view_name": "StyleView",
            "description_width": ""
          }
        },
        "b31d6cf1db35481a8d6629d5eba3e304": {
          "model_module": "@jupyter-widgets/base",
          "model_name": "LayoutModel",
          "model_module_version": "1.2.0",
          "state": {
            "_model_module": "@jupyter-widgets/base",
            "_model_module_version": "1.2.0",
            "_model_name": "LayoutModel",
            "_view_count": null,
            "_view_module": "@jupyter-widgets/base",
            "_view_module_version": "1.2.0",
            "_view_name": "LayoutView",
            "align_content": null,
            "align_items": null,
            "align_self": null,
            "border": null,
            "bottom": null,
            "display": null,
            "flex": null,
            "flex_flow": null,
            "grid_area": null,
            "grid_auto_columns": null,
            "grid_auto_flow": null,
            "grid_auto_rows": null,
            "grid_column": null,
            "grid_gap": null,
            "grid_row": null,
            "grid_template_areas": null,
            "grid_template_columns": null,
            "grid_template_rows": null,
            "height": null,
            "justify_content": null,
            "justify_items": null,
            "left": null,
            "margin": null,
            "max_height": null,
            "max_width": null,
            "min_height": null,
            "min_width": null,
            "object_fit": null,
            "object_position": null,
            "order": null,
            "overflow": null,
            "overflow_x": null,
            "overflow_y": null,
            "padding": null,
            "right": null,
            "top": null,
            "visibility": null,
            "width": "20px"
          }
        },
        "53640dd2b4784454919813e58de9e1d4": {
          "model_module": "@jupyter-widgets/controls",
          "model_name": "ProgressStyleModel",
          "model_module_version": "1.5.0",
          "state": {
            "_model_module": "@jupyter-widgets/controls",
            "_model_module_version": "1.5.0",
            "_model_name": "ProgressStyleModel",
            "_view_count": null,
            "_view_module": "@jupyter-widgets/base",
            "_view_module_version": "1.2.0",
            "_view_name": "StyleView",
            "bar_color": null,
            "description_width": ""
          }
        },
        "26eda96a924443d79016b02c6c4bbe3e": {
          "model_module": "@jupyter-widgets/base",
          "model_name": "LayoutModel",
          "model_module_version": "1.2.0",
          "state": {
            "_model_module": "@jupyter-widgets/base",
            "_model_module_version": "1.2.0",
            "_model_name": "LayoutModel",
            "_view_count": null,
            "_view_module": "@jupyter-widgets/base",
            "_view_module_version": "1.2.0",
            "_view_name": "LayoutView",
            "align_content": null,
            "align_items": null,
            "align_self": null,
            "border": null,
            "bottom": null,
            "display": null,
            "flex": null,
            "flex_flow": null,
            "grid_area": null,
            "grid_auto_columns": null,
            "grid_auto_flow": null,
            "grid_auto_rows": null,
            "grid_column": null,
            "grid_gap": null,
            "grid_row": null,
            "grid_template_areas": null,
            "grid_template_columns": null,
            "grid_template_rows": null,
            "height": null,
            "justify_content": null,
            "justify_items": null,
            "left": null,
            "margin": null,
            "max_height": null,
            "max_width": null,
            "min_height": null,
            "min_width": null,
            "object_fit": null,
            "object_position": null,
            "order": null,
            "overflow": null,
            "overflow_x": null,
            "overflow_y": null,
            "padding": null,
            "right": null,
            "top": null,
            "visibility": null,
            "width": null
          }
        },
        "3aecd3f4d9aa4b1fae8e15d3332b7608": {
          "model_module": "@jupyter-widgets/controls",
          "model_name": "DescriptionStyleModel",
          "model_module_version": "1.5.0",
          "state": {
            "_model_module": "@jupyter-widgets/controls",
            "_model_module_version": "1.5.0",
            "_model_name": "DescriptionStyleModel",
            "_view_count": null,
            "_view_module": "@jupyter-widgets/base",
            "_view_module_version": "1.2.0",
            "_view_name": "StyleView",
            "description_width": ""
          }
        },
        "b5bb657dde0f4fd485913018702bbadc": {
          "model_module": "@jupyter-widgets/controls",
          "model_name": "HBoxModel",
          "model_module_version": "1.5.0",
          "state": {
            "_dom_classes": [],
            "_model_module": "@jupyter-widgets/controls",
            "_model_module_version": "1.5.0",
            "_model_name": "HBoxModel",
            "_view_count": null,
            "_view_module": "@jupyter-widgets/controls",
            "_view_module_version": "1.5.0",
            "_view_name": "HBoxView",
            "box_style": "",
            "children": [
              "IPY_MODEL_e1bfe6baf03b4bec941358a80bbca434",
              "IPY_MODEL_d7d4f670c8da4d3fa1dd0551da2ce9c4",
              "IPY_MODEL_172691d7bd98462aa1793de6e7a78934"
            ],
            "layout": "IPY_MODEL_f8f1da366e674671b9a5e7bbd2f1f963"
          }
        },
        "e1bfe6baf03b4bec941358a80bbca434": {
          "model_module": "@jupyter-widgets/controls",
          "model_name": "HTMLModel",
          "model_module_version": "1.5.0",
          "state": {
            "_dom_classes": [],
            "_model_module": "@jupyter-widgets/controls",
            "_model_module_version": "1.5.0",
            "_model_name": "HTMLModel",
            "_view_count": null,
            "_view_module": "@jupyter-widgets/controls",
            "_view_module_version": "1.5.0",
            "_view_name": "HTMLView",
            "description": "",
            "description_tooltip": null,
            "layout": "IPY_MODEL_fd47d4a2c196462fa0e502bc0a4abfcc",
            "placeholder": "​",
            "style": "IPY_MODEL_b33645f843a44edb88edb084d41fa828",
            "value": "Dl Size...: 100%"
          }
        },
        "d7d4f670c8da4d3fa1dd0551da2ce9c4": {
          "model_module": "@jupyter-widgets/controls",
          "model_name": "FloatProgressModel",
          "model_module_version": "1.5.0",
          "state": {
            "_dom_classes": [],
            "_model_module": "@jupyter-widgets/controls",
            "_model_module_version": "1.5.0",
            "_model_name": "FloatProgressModel",
            "_view_count": null,
            "_view_module": "@jupyter-widgets/controls",
            "_view_module_version": "1.5.0",
            "_view_name": "ProgressView",
            "bar_style": "success",
            "description": "",
            "description_tooltip": null,
            "layout": "IPY_MODEL_75191ae2fd6a41da8b9fd910d611599f",
            "max": 1,
            "min": 0,
            "orientation": "horizontal",
            "style": "IPY_MODEL_77747450c4cc4891af85c6ab1cdac31e",
            "value": 1
          }
        },
        "172691d7bd98462aa1793de6e7a78934": {
          "model_module": "@jupyter-widgets/controls",
          "model_name": "HTMLModel",
          "model_module_version": "1.5.0",
          "state": {
            "_dom_classes": [],
            "_model_module": "@jupyter-widgets/controls",
            "_model_module_version": "1.5.0",
            "_model_name": "HTMLModel",
            "_view_count": null,
            "_view_module": "@jupyter-widgets/controls",
            "_view_module_version": "1.5.0",
            "_view_name": "HTMLView",
            "description": "",
            "description_tooltip": null,
            "layout": "IPY_MODEL_cf96bf9818f2433da01317a88101c06e",
            "placeholder": "​",
            "style": "IPY_MODEL_252a213bd9234da28e1bb066751ab8e4",
            "value": " 162/162 [00:05&lt;00:00, 69.22 MiB/s]"
          }
        },
        "f8f1da366e674671b9a5e7bbd2f1f963": {
          "model_module": "@jupyter-widgets/base",
          "model_name": "LayoutModel",
          "model_module_version": "1.2.0",
          "state": {
            "_model_module": "@jupyter-widgets/base",
            "_model_module_version": "1.2.0",
            "_model_name": "LayoutModel",
            "_view_count": null,
            "_view_module": "@jupyter-widgets/base",
            "_view_module_version": "1.2.0",
            "_view_name": "LayoutView",
            "align_content": null,
            "align_items": null,
            "align_self": null,
            "border": null,
            "bottom": null,
            "display": null,
            "flex": null,
            "flex_flow": null,
            "grid_area": null,
            "grid_auto_columns": null,
            "grid_auto_flow": null,
            "grid_auto_rows": null,
            "grid_column": null,
            "grid_gap": null,
            "grid_row": null,
            "grid_template_areas": null,
            "grid_template_columns": null,
            "grid_template_rows": null,
            "height": null,
            "justify_content": null,
            "justify_items": null,
            "left": null,
            "margin": null,
            "max_height": null,
            "max_width": null,
            "min_height": null,
            "min_width": null,
            "object_fit": null,
            "object_position": null,
            "order": null,
            "overflow": null,
            "overflow_x": null,
            "overflow_y": null,
            "padding": null,
            "right": null,
            "top": null,
            "visibility": null,
            "width": null
          }
        },
        "fd47d4a2c196462fa0e502bc0a4abfcc": {
          "model_module": "@jupyter-widgets/base",
          "model_name": "LayoutModel",
          "model_module_version": "1.2.0",
          "state": {
            "_model_module": "@jupyter-widgets/base",
            "_model_module_version": "1.2.0",
            "_model_name": "LayoutModel",
            "_view_count": null,
            "_view_module": "@jupyter-widgets/base",
            "_view_module_version": "1.2.0",
            "_view_name": "LayoutView",
            "align_content": null,
            "align_items": null,
            "align_self": null,
            "border": null,
            "bottom": null,
            "display": null,
            "flex": null,
            "flex_flow": null,
            "grid_area": null,
            "grid_auto_columns": null,
            "grid_auto_flow": null,
            "grid_auto_rows": null,
            "grid_column": null,
            "grid_gap": null,
            "grid_row": null,
            "grid_template_areas": null,
            "grid_template_columns": null,
            "grid_template_rows": null,
            "height": null,
            "justify_content": null,
            "justify_items": null,
            "left": null,
            "margin": null,
            "max_height": null,
            "max_width": null,
            "min_height": null,
            "min_width": null,
            "object_fit": null,
            "object_position": null,
            "order": null,
            "overflow": null,
            "overflow_x": null,
            "overflow_y": null,
            "padding": null,
            "right": null,
            "top": null,
            "visibility": null,
            "width": null
          }
        },
        "b33645f843a44edb88edb084d41fa828": {
          "model_module": "@jupyter-widgets/controls",
          "model_name": "DescriptionStyleModel",
          "model_module_version": "1.5.0",
          "state": {
            "_model_module": "@jupyter-widgets/controls",
            "_model_module_version": "1.5.0",
            "_model_name": "DescriptionStyleModel",
            "_view_count": null,
            "_view_module": "@jupyter-widgets/base",
            "_view_module_version": "1.2.0",
            "_view_name": "StyleView",
            "description_width": ""
          }
        },
        "75191ae2fd6a41da8b9fd910d611599f": {
          "model_module": "@jupyter-widgets/base",
          "model_name": "LayoutModel",
          "model_module_version": "1.2.0",
          "state": {
            "_model_module": "@jupyter-widgets/base",
            "_model_module_version": "1.2.0",
            "_model_name": "LayoutModel",
            "_view_count": null,
            "_view_module": "@jupyter-widgets/base",
            "_view_module_version": "1.2.0",
            "_view_name": "LayoutView",
            "align_content": null,
            "align_items": null,
            "align_self": null,
            "border": null,
            "bottom": null,
            "display": null,
            "flex": null,
            "flex_flow": null,
            "grid_area": null,
            "grid_auto_columns": null,
            "grid_auto_flow": null,
            "grid_auto_rows": null,
            "grid_column": null,
            "grid_gap": null,
            "grid_row": null,
            "grid_template_areas": null,
            "grid_template_columns": null,
            "grid_template_rows": null,
            "height": null,
            "justify_content": null,
            "justify_items": null,
            "left": null,
            "margin": null,
            "max_height": null,
            "max_width": null,
            "min_height": null,
            "min_width": null,
            "object_fit": null,
            "object_position": null,
            "order": null,
            "overflow": null,
            "overflow_x": null,
            "overflow_y": null,
            "padding": null,
            "right": null,
            "top": null,
            "visibility": null,
            "width": "20px"
          }
        },
        "77747450c4cc4891af85c6ab1cdac31e": {
          "model_module": "@jupyter-widgets/controls",
          "model_name": "ProgressStyleModel",
          "model_module_version": "1.5.0",
          "state": {
            "_model_module": "@jupyter-widgets/controls",
            "_model_module_version": "1.5.0",
            "_model_name": "ProgressStyleModel",
            "_view_count": null,
            "_view_module": "@jupyter-widgets/base",
            "_view_module_version": "1.2.0",
            "_view_name": "StyleView",
            "bar_color": null,
            "description_width": ""
          }
        },
        "cf96bf9818f2433da01317a88101c06e": {
          "model_module": "@jupyter-widgets/base",
          "model_name": "LayoutModel",
          "model_module_version": "1.2.0",
          "state": {
            "_model_module": "@jupyter-widgets/base",
            "_model_module_version": "1.2.0",
            "_model_name": "LayoutModel",
            "_view_count": null,
            "_view_module": "@jupyter-widgets/base",
            "_view_module_version": "1.2.0",
            "_view_name": "LayoutView",
            "align_content": null,
            "align_items": null,
            "align_self": null,
            "border": null,
            "bottom": null,
            "display": null,
            "flex": null,
            "flex_flow": null,
            "grid_area": null,
            "grid_auto_columns": null,
            "grid_auto_flow": null,
            "grid_auto_rows": null,
            "grid_column": null,
            "grid_gap": null,
            "grid_row": null,
            "grid_template_areas": null,
            "grid_template_columns": null,
            "grid_template_rows": null,
            "height": null,
            "justify_content": null,
            "justify_items": null,
            "left": null,
            "margin": null,
            "max_height": null,
            "max_width": null,
            "min_height": null,
            "min_width": null,
            "object_fit": null,
            "object_position": null,
            "order": null,
            "overflow": null,
            "overflow_x": null,
            "overflow_y": null,
            "padding": null,
            "right": null,
            "top": null,
            "visibility": null,
            "width": null
          }
        },
        "252a213bd9234da28e1bb066751ab8e4": {
          "model_module": "@jupyter-widgets/controls",
          "model_name": "DescriptionStyleModel",
          "model_module_version": "1.5.0",
          "state": {
            "_model_module": "@jupyter-widgets/controls",
            "_model_module_version": "1.5.0",
            "_model_name": "DescriptionStyleModel",
            "_view_count": null,
            "_view_module": "@jupyter-widgets/base",
            "_view_module_version": "1.2.0",
            "_view_name": "StyleView",
            "description_width": ""
          }
        },
        "48f3007650634ad38777d70d80921daa": {
          "model_module": "@jupyter-widgets/controls",
          "model_name": "HBoxModel",
          "model_module_version": "1.5.0",
          "state": {
            "_dom_classes": [],
            "_model_module": "@jupyter-widgets/controls",
            "_model_module_version": "1.5.0",
            "_model_name": "HBoxModel",
            "_view_count": null,
            "_view_module": "@jupyter-widgets/controls",
            "_view_module_version": "1.5.0",
            "_view_name": "HBoxView",
            "box_style": "",
            "children": [
              "IPY_MODEL_d5bbafc9c8754b509d1de816cd92fa31",
              "IPY_MODEL_0b561ec52e8345d493d5e0738110ef39",
              "IPY_MODEL_eb6fdf2ef7174525befe5bd9027394ca"
            ],
            "layout": "IPY_MODEL_6b671b4800604c959d25440a5a09f8be"
          }
        },
        "d5bbafc9c8754b509d1de816cd92fa31": {
          "model_module": "@jupyter-widgets/controls",
          "model_name": "HTMLModel",
          "model_module_version": "1.5.0",
          "state": {
            "_dom_classes": [],
            "_model_module": "@jupyter-widgets/controls",
            "_model_module_version": "1.5.0",
            "_model_name": "HTMLModel",
            "_view_count": null,
            "_view_module": "@jupyter-widgets/controls",
            "_view_module_version": "1.5.0",
            "_view_name": "HTMLView",
            "description": "",
            "description_tooltip": null,
            "layout": "IPY_MODEL_312594a5827f4ae7ad83331e6d06ecb3",
            "placeholder": "​",
            "style": "IPY_MODEL_53adaeb7b640403d91c42bda901aa411",
            "value": "Extraction completed...: 100%"
          }
        },
        "0b561ec52e8345d493d5e0738110ef39": {
          "model_module": "@jupyter-widgets/controls",
          "model_name": "FloatProgressModel",
          "model_module_version": "1.5.0",
          "state": {
            "_dom_classes": [],
            "_model_module": "@jupyter-widgets/controls",
            "_model_module_version": "1.5.0",
            "_model_name": "FloatProgressModel",
            "_view_count": null,
            "_view_module": "@jupyter-widgets/controls",
            "_view_module_version": "1.5.0",
            "_view_name": "ProgressView",
            "bar_style": "success",
            "description": "",
            "description_tooltip": null,
            "layout": "IPY_MODEL_0445edb21f1a4f44b4febff1049024ff",
            "max": 1,
            "min": 0,
            "orientation": "horizontal",
            "style": "IPY_MODEL_47fc63de37ea4240b4a9450ac482d549",
            "value": 1
          }
        },
        "eb6fdf2ef7174525befe5bd9027394ca": {
          "model_module": "@jupyter-widgets/controls",
          "model_name": "HTMLModel",
          "model_module_version": "1.5.0",
          "state": {
            "_dom_classes": [],
            "_model_module": "@jupyter-widgets/controls",
            "_model_module_version": "1.5.0",
            "_model_name": "HTMLModel",
            "_view_count": null,
            "_view_module": "@jupyter-widgets/controls",
            "_view_module_version": "1.5.0",
            "_view_name": "HTMLView",
            "description": "",
            "description_tooltip": null,
            "layout": "IPY_MODEL_735f5d43c1c44e82a0760194be74240c",
            "placeholder": "​",
            "style": "IPY_MODEL_08430f549dbe4568b501a36110b74060",
            "value": " 8/8 [00:05&lt;00:00,  5.26s/ file]"
          }
        },
        "6b671b4800604c959d25440a5a09f8be": {
          "model_module": "@jupyter-widgets/base",
          "model_name": "LayoutModel",
          "model_module_version": "1.2.0",
          "state": {
            "_model_module": "@jupyter-widgets/base",
            "_model_module_version": "1.2.0",
            "_model_name": "LayoutModel",
            "_view_count": null,
            "_view_module": "@jupyter-widgets/base",
            "_view_module_version": "1.2.0",
            "_view_name": "LayoutView",
            "align_content": null,
            "align_items": null,
            "align_self": null,
            "border": null,
            "bottom": null,
            "display": null,
            "flex": null,
            "flex_flow": null,
            "grid_area": null,
            "grid_auto_columns": null,
            "grid_auto_flow": null,
            "grid_auto_rows": null,
            "grid_column": null,
            "grid_gap": null,
            "grid_row": null,
            "grid_template_areas": null,
            "grid_template_columns": null,
            "grid_template_rows": null,
            "height": null,
            "justify_content": null,
            "justify_items": null,
            "left": null,
            "margin": null,
            "max_height": null,
            "max_width": null,
            "min_height": null,
            "min_width": null,
            "object_fit": null,
            "object_position": null,
            "order": null,
            "overflow": null,
            "overflow_x": null,
            "overflow_y": null,
            "padding": null,
            "right": null,
            "top": null,
            "visibility": null,
            "width": null
          }
        },
        "312594a5827f4ae7ad83331e6d06ecb3": {
          "model_module": "@jupyter-widgets/base",
          "model_name": "LayoutModel",
          "model_module_version": "1.2.0",
          "state": {
            "_model_module": "@jupyter-widgets/base",
            "_model_module_version": "1.2.0",
            "_model_name": "LayoutModel",
            "_view_count": null,
            "_view_module": "@jupyter-widgets/base",
            "_view_module_version": "1.2.0",
            "_view_name": "LayoutView",
            "align_content": null,
            "align_items": null,
            "align_self": null,
            "border": null,
            "bottom": null,
            "display": null,
            "flex": null,
            "flex_flow": null,
            "grid_area": null,
            "grid_auto_columns": null,
            "grid_auto_flow": null,
            "grid_auto_rows": null,
            "grid_column": null,
            "grid_gap": null,
            "grid_row": null,
            "grid_template_areas": null,
            "grid_template_columns": null,
            "grid_template_rows": null,
            "height": null,
            "justify_content": null,
            "justify_items": null,
            "left": null,
            "margin": null,
            "max_height": null,
            "max_width": null,
            "min_height": null,
            "min_width": null,
            "object_fit": null,
            "object_position": null,
            "order": null,
            "overflow": null,
            "overflow_x": null,
            "overflow_y": null,
            "padding": null,
            "right": null,
            "top": null,
            "visibility": null,
            "width": null
          }
        },
        "53adaeb7b640403d91c42bda901aa411": {
          "model_module": "@jupyter-widgets/controls",
          "model_name": "DescriptionStyleModel",
          "model_module_version": "1.5.0",
          "state": {
            "_model_module": "@jupyter-widgets/controls",
            "_model_module_version": "1.5.0",
            "_model_name": "DescriptionStyleModel",
            "_view_count": null,
            "_view_module": "@jupyter-widgets/base",
            "_view_module_version": "1.2.0",
            "_view_name": "StyleView",
            "description_width": ""
          }
        },
        "0445edb21f1a4f44b4febff1049024ff": {
          "model_module": "@jupyter-widgets/base",
          "model_name": "LayoutModel",
          "model_module_version": "1.2.0",
          "state": {
            "_model_module": "@jupyter-widgets/base",
            "_model_module_version": "1.2.0",
            "_model_name": "LayoutModel",
            "_view_count": null,
            "_view_module": "@jupyter-widgets/base",
            "_view_module_version": "1.2.0",
            "_view_name": "LayoutView",
            "align_content": null,
            "align_items": null,
            "align_self": null,
            "border": null,
            "bottom": null,
            "display": null,
            "flex": null,
            "flex_flow": null,
            "grid_area": null,
            "grid_auto_columns": null,
            "grid_auto_flow": null,
            "grid_auto_rows": null,
            "grid_column": null,
            "grid_gap": null,
            "grid_row": null,
            "grid_template_areas": null,
            "grid_template_columns": null,
            "grid_template_rows": null,
            "height": null,
            "justify_content": null,
            "justify_items": null,
            "left": null,
            "margin": null,
            "max_height": null,
            "max_width": null,
            "min_height": null,
            "min_width": null,
            "object_fit": null,
            "object_position": null,
            "order": null,
            "overflow": null,
            "overflow_x": null,
            "overflow_y": null,
            "padding": null,
            "right": null,
            "top": null,
            "visibility": null,
            "width": "20px"
          }
        },
        "47fc63de37ea4240b4a9450ac482d549": {
          "model_module": "@jupyter-widgets/controls",
          "model_name": "ProgressStyleModel",
          "model_module_version": "1.5.0",
          "state": {
            "_model_module": "@jupyter-widgets/controls",
            "_model_module_version": "1.5.0",
            "_model_name": "ProgressStyleModel",
            "_view_count": null,
            "_view_module": "@jupyter-widgets/base",
            "_view_module_version": "1.2.0",
            "_view_name": "StyleView",
            "bar_color": null,
            "description_width": ""
          }
        },
        "735f5d43c1c44e82a0760194be74240c": {
          "model_module": "@jupyter-widgets/base",
          "model_name": "LayoutModel",
          "model_module_version": "1.2.0",
          "state": {
            "_model_module": "@jupyter-widgets/base",
            "_model_module_version": "1.2.0",
            "_model_name": "LayoutModel",
            "_view_count": null,
            "_view_module": "@jupyter-widgets/base",
            "_view_module_version": "1.2.0",
            "_view_name": "LayoutView",
            "align_content": null,
            "align_items": null,
            "align_self": null,
            "border": null,
            "bottom": null,
            "display": null,
            "flex": null,
            "flex_flow": null,
            "grid_area": null,
            "grid_auto_columns": null,
            "grid_auto_flow": null,
            "grid_auto_rows": null,
            "grid_column": null,
            "grid_gap": null,
            "grid_row": null,
            "grid_template_areas": null,
            "grid_template_columns": null,
            "grid_template_rows": null,
            "height": null,
            "justify_content": null,
            "justify_items": null,
            "left": null,
            "margin": null,
            "max_height": null,
            "max_width": null,
            "min_height": null,
            "min_width": null,
            "object_fit": null,
            "object_position": null,
            "order": null,
            "overflow": null,
            "overflow_x": null,
            "overflow_y": null,
            "padding": null,
            "right": null,
            "top": null,
            "visibility": null,
            "width": null
          }
        },
        "08430f549dbe4568b501a36110b74060": {
          "model_module": "@jupyter-widgets/controls",
          "model_name": "DescriptionStyleModel",
          "model_module_version": "1.5.0",
          "state": {
            "_model_module": "@jupyter-widgets/controls",
            "_model_module_version": "1.5.0",
            "_model_name": "DescriptionStyleModel",
            "_view_count": null,
            "_view_module": "@jupyter-widgets/base",
            "_view_module_version": "1.2.0",
            "_view_name": "StyleView",
            "description_width": ""
          }
        },
        "cd88b0421e994a93b2aee648ffdc29a4": {
          "model_module": "@jupyter-widgets/controls",
          "model_name": "HBoxModel",
          "model_module_version": "1.5.0",
          "state": {
            "_dom_classes": [],
            "_model_module": "@jupyter-widgets/controls",
            "_model_module_version": "1.5.0",
            "_model_name": "HBoxModel",
            "_view_count": null,
            "_view_module": "@jupyter-widgets/controls",
            "_view_module_version": "1.5.0",
            "_view_name": "HBoxView",
            "box_style": "",
            "children": [
              "IPY_MODEL_d5942a851066469c877339d1c518f0be",
              "IPY_MODEL_045b03a9f94a4aeab3079d2111b2ba04",
              "IPY_MODEL_8d36f647cacf4645b770136bb154c009"
            ],
            "layout": "IPY_MODEL_95cb8a86f2714aad9181aa81bf0b0122"
          }
        },
        "d5942a851066469c877339d1c518f0be": {
          "model_module": "@jupyter-widgets/controls",
          "model_name": "HTMLModel",
          "model_module_version": "1.5.0",
          "state": {
            "_dom_classes": [],
            "_model_module": "@jupyter-widgets/controls",
            "_model_module_version": "1.5.0",
            "_model_name": "HTMLModel",
            "_view_count": null,
            "_view_module": "@jupyter-widgets/controls",
            "_view_module_version": "1.5.0",
            "_view_name": "HTMLView",
            "description": "",
            "description_tooltip": null,
            "layout": "IPY_MODEL_c575c77c1419446ab65153b593504fe1",
            "placeholder": "​",
            "style": "IPY_MODEL_28fc2998a3484fdea93f55294d633710",
            "value": "Generating splits...: 100%"
          }
        },
        "045b03a9f94a4aeab3079d2111b2ba04": {
          "model_module": "@jupyter-widgets/controls",
          "model_name": "FloatProgressModel",
          "model_module_version": "1.5.0",
          "state": {
            "_dom_classes": [],
            "_model_module": "@jupyter-widgets/controls",
            "_model_module_version": "1.5.0",
            "_model_name": "FloatProgressModel",
            "_view_count": null,
            "_view_module": "@jupyter-widgets/controls",
            "_view_module_version": "1.5.0",
            "_view_name": "ProgressView",
            "bar_style": "",
            "description": "",
            "description_tooltip": null,
            "layout": "IPY_MODEL_bc65719b79844746a0f1b3afc2ba00ce",
            "max": 2,
            "min": 0,
            "orientation": "horizontal",
            "style": "IPY_MODEL_e5c422b985af43269ee17a1d54282e47",
            "value": 2
          }
        },
        "8d36f647cacf4645b770136bb154c009": {
          "model_module": "@jupyter-widgets/controls",
          "model_name": "HTMLModel",
          "model_module_version": "1.5.0",
          "state": {
            "_dom_classes": [],
            "_model_module": "@jupyter-widgets/controls",
            "_model_module_version": "1.5.0",
            "_model_name": "HTMLModel",
            "_view_count": null,
            "_view_module": "@jupyter-widgets/controls",
            "_view_module_version": "1.5.0",
            "_view_name": "HTMLView",
            "description": "",
            "description_tooltip": null,
            "layout": "IPY_MODEL_21c34a774cee491da4237133f5ceeba0",
            "placeholder": "​",
            "style": "IPY_MODEL_bf0dd19646304e59acc6715b927c8d6a",
            "value": " 2/2 [01:01&lt;00:00, 27.06s/ splits]"
          }
        },
        "95cb8a86f2714aad9181aa81bf0b0122": {
          "model_module": "@jupyter-widgets/base",
          "model_name": "LayoutModel",
          "model_module_version": "1.2.0",
          "state": {
            "_model_module": "@jupyter-widgets/base",
            "_model_module_version": "1.2.0",
            "_model_name": "LayoutModel",
            "_view_count": null,
            "_view_module": "@jupyter-widgets/base",
            "_view_module_version": "1.2.0",
            "_view_name": "LayoutView",
            "align_content": null,
            "align_items": null,
            "align_self": null,
            "border": null,
            "bottom": null,
            "display": null,
            "flex": null,
            "flex_flow": null,
            "grid_area": null,
            "grid_auto_columns": null,
            "grid_auto_flow": null,
            "grid_auto_rows": null,
            "grid_column": null,
            "grid_gap": null,
            "grid_row": null,
            "grid_template_areas": null,
            "grid_template_columns": null,
            "grid_template_rows": null,
            "height": null,
            "justify_content": null,
            "justify_items": null,
            "left": null,
            "margin": null,
            "max_height": null,
            "max_width": null,
            "min_height": null,
            "min_width": null,
            "object_fit": null,
            "object_position": null,
            "order": null,
            "overflow": null,
            "overflow_x": null,
            "overflow_y": null,
            "padding": null,
            "right": null,
            "top": null,
            "visibility": "hidden",
            "width": null
          }
        },
        "c575c77c1419446ab65153b593504fe1": {
          "model_module": "@jupyter-widgets/base",
          "model_name": "LayoutModel",
          "model_module_version": "1.2.0",
          "state": {
            "_model_module": "@jupyter-widgets/base",
            "_model_module_version": "1.2.0",
            "_model_name": "LayoutModel",
            "_view_count": null,
            "_view_module": "@jupyter-widgets/base",
            "_view_module_version": "1.2.0",
            "_view_name": "LayoutView",
            "align_content": null,
            "align_items": null,
            "align_self": null,
            "border": null,
            "bottom": null,
            "display": null,
            "flex": null,
            "flex_flow": null,
            "grid_area": null,
            "grid_auto_columns": null,
            "grid_auto_flow": null,
            "grid_auto_rows": null,
            "grid_column": null,
            "grid_gap": null,
            "grid_row": null,
            "grid_template_areas": null,
            "grid_template_columns": null,
            "grid_template_rows": null,
            "height": null,
            "justify_content": null,
            "justify_items": null,
            "left": null,
            "margin": null,
            "max_height": null,
            "max_width": null,
            "min_height": null,
            "min_width": null,
            "object_fit": null,
            "object_position": null,
            "order": null,
            "overflow": null,
            "overflow_x": null,
            "overflow_y": null,
            "padding": null,
            "right": null,
            "top": null,
            "visibility": null,
            "width": null
          }
        },
        "28fc2998a3484fdea93f55294d633710": {
          "model_module": "@jupyter-widgets/controls",
          "model_name": "DescriptionStyleModel",
          "model_module_version": "1.5.0",
          "state": {
            "_model_module": "@jupyter-widgets/controls",
            "_model_module_version": "1.5.0",
            "_model_name": "DescriptionStyleModel",
            "_view_count": null,
            "_view_module": "@jupyter-widgets/base",
            "_view_module_version": "1.2.0",
            "_view_name": "StyleView",
            "description_width": ""
          }
        },
        "bc65719b79844746a0f1b3afc2ba00ce": {
          "model_module": "@jupyter-widgets/base",
          "model_name": "LayoutModel",
          "model_module_version": "1.2.0",
          "state": {
            "_model_module": "@jupyter-widgets/base",
            "_model_module_version": "1.2.0",
            "_model_name": "LayoutModel",
            "_view_count": null,
            "_view_module": "@jupyter-widgets/base",
            "_view_module_version": "1.2.0",
            "_view_name": "LayoutView",
            "align_content": null,
            "align_items": null,
            "align_self": null,
            "border": null,
            "bottom": null,
            "display": null,
            "flex": null,
            "flex_flow": null,
            "grid_area": null,
            "grid_auto_columns": null,
            "grid_auto_flow": null,
            "grid_auto_rows": null,
            "grid_column": null,
            "grid_gap": null,
            "grid_row": null,
            "grid_template_areas": null,
            "grid_template_columns": null,
            "grid_template_rows": null,
            "height": null,
            "justify_content": null,
            "justify_items": null,
            "left": null,
            "margin": null,
            "max_height": null,
            "max_width": null,
            "min_height": null,
            "min_width": null,
            "object_fit": null,
            "object_position": null,
            "order": null,
            "overflow": null,
            "overflow_x": null,
            "overflow_y": null,
            "padding": null,
            "right": null,
            "top": null,
            "visibility": null,
            "width": null
          }
        },
        "e5c422b985af43269ee17a1d54282e47": {
          "model_module": "@jupyter-widgets/controls",
          "model_name": "ProgressStyleModel",
          "model_module_version": "1.5.0",
          "state": {
            "_model_module": "@jupyter-widgets/controls",
            "_model_module_version": "1.5.0",
            "_model_name": "ProgressStyleModel",
            "_view_count": null,
            "_view_module": "@jupyter-widgets/base",
            "_view_module_version": "1.2.0",
            "_view_name": "StyleView",
            "bar_color": null,
            "description_width": ""
          }
        },
        "21c34a774cee491da4237133f5ceeba0": {
          "model_module": "@jupyter-widgets/base",
          "model_name": "LayoutModel",
          "model_module_version": "1.2.0",
          "state": {
            "_model_module": "@jupyter-widgets/base",
            "_model_module_version": "1.2.0",
            "_model_name": "LayoutModel",
            "_view_count": null,
            "_view_module": "@jupyter-widgets/base",
            "_view_module_version": "1.2.0",
            "_view_name": "LayoutView",
            "align_content": null,
            "align_items": null,
            "align_self": null,
            "border": null,
            "bottom": null,
            "display": null,
            "flex": null,
            "flex_flow": null,
            "grid_area": null,
            "grid_auto_columns": null,
            "grid_auto_flow": null,
            "grid_auto_rows": null,
            "grid_column": null,
            "grid_gap": null,
            "grid_row": null,
            "grid_template_areas": null,
            "grid_template_columns": null,
            "grid_template_rows": null,
            "height": null,
            "justify_content": null,
            "justify_items": null,
            "left": null,
            "margin": null,
            "max_height": null,
            "max_width": null,
            "min_height": null,
            "min_width": null,
            "object_fit": null,
            "object_position": null,
            "order": null,
            "overflow": null,
            "overflow_x": null,
            "overflow_y": null,
            "padding": null,
            "right": null,
            "top": null,
            "visibility": null,
            "width": null
          }
        },
        "bf0dd19646304e59acc6715b927c8d6a": {
          "model_module": "@jupyter-widgets/controls",
          "model_name": "DescriptionStyleModel",
          "model_module_version": "1.5.0",
          "state": {
            "_model_module": "@jupyter-widgets/controls",
            "_model_module_version": "1.5.0",
            "_model_name": "DescriptionStyleModel",
            "_view_count": null,
            "_view_module": "@jupyter-widgets/base",
            "_view_module_version": "1.2.0",
            "_view_name": "StyleView",
            "description_width": ""
          }
        },
        "a3bfbb5ffc25429ebd97a032e6989536": {
          "model_module": "@jupyter-widgets/controls",
          "model_name": "HBoxModel",
          "model_module_version": "1.5.0",
          "state": {
            "_dom_classes": [],
            "_model_module": "@jupyter-widgets/controls",
            "_model_module_version": "1.5.0",
            "_model_name": "HBoxModel",
            "_view_count": null,
            "_view_module": "@jupyter-widgets/controls",
            "_view_module_version": "1.5.0",
            "_view_name": "HBoxView",
            "box_style": "",
            "children": [
              "IPY_MODEL_1ad888dcec9d48229a37b776ecfde0d4",
              "IPY_MODEL_0491f0b9431343e9ac9f505ded64d3c1",
              "IPY_MODEL_40dfdd2cbf494588aa0279eeaa8529ee"
            ],
            "layout": "IPY_MODEL_52c8749278064ae69387fa7b0c914bfc"
          }
        },
        "1ad888dcec9d48229a37b776ecfde0d4": {
          "model_module": "@jupyter-widgets/controls",
          "model_name": "HTMLModel",
          "model_module_version": "1.5.0",
          "state": {
            "_dom_classes": [],
            "_model_module": "@jupyter-widgets/controls",
            "_model_module_version": "1.5.0",
            "_model_name": "HTMLModel",
            "_view_count": null,
            "_view_module": "@jupyter-widgets/controls",
            "_view_module_version": "1.5.0",
            "_view_name": "HTMLView",
            "description": "",
            "description_tooltip": null,
            "layout": "IPY_MODEL_90fec76479174c6c941ffc2e1fcd8b2a",
            "placeholder": "​",
            "style": "IPY_MODEL_1428de8a837643369697d18ad56fd98e",
            "value": "Generating train examples...: "
          }
        },
        "0491f0b9431343e9ac9f505ded64d3c1": {
          "model_module": "@jupyter-widgets/controls",
          "model_name": "FloatProgressModel",
          "model_module_version": "1.5.0",
          "state": {
            "_dom_classes": [],
            "_model_module": "@jupyter-widgets/controls",
            "_model_module_version": "1.5.0",
            "_model_name": "FloatProgressModel",
            "_view_count": null,
            "_view_module": "@jupyter-widgets/controls",
            "_view_module_version": "1.5.0",
            "_view_name": "ProgressView",
            "bar_style": "info",
            "description": "",
            "description_tooltip": null,
            "layout": "IPY_MODEL_0bfba263f1774d1ab9f1a51298f8710e",
            "max": 1,
            "min": 0,
            "orientation": "horizontal",
            "style": "IPY_MODEL_fad00696246646b6841327537a9b5529",
            "value": 1
          }
        },
        "40dfdd2cbf494588aa0279eeaa8529ee": {
          "model_module": "@jupyter-widgets/controls",
          "model_name": "HTMLModel",
          "model_module_version": "1.5.0",
          "state": {
            "_dom_classes": [],
            "_model_module": "@jupyter-widgets/controls",
            "_model_module_version": "1.5.0",
            "_model_name": "HTMLModel",
            "_view_count": null,
            "_view_module": "@jupyter-widgets/controls",
            "_view_module_version": "1.5.0",
            "_view_name": "HTMLView",
            "description": "",
            "description_tooltip": null,
            "layout": "IPY_MODEL_f762c76b83d0461aaa36bc27049dae77",
            "placeholder": "​",
            "style": "IPY_MODEL_924ab177f308409fa05e5bfd6430f0bb",
            "value": " 49896/? [00:50&lt;00:00, 1088.46 examples/s]"
          }
        },
        "52c8749278064ae69387fa7b0c914bfc": {
          "model_module": "@jupyter-widgets/base",
          "model_name": "LayoutModel",
          "model_module_version": "1.2.0",
          "state": {
            "_model_module": "@jupyter-widgets/base",
            "_model_module_version": "1.2.0",
            "_model_name": "LayoutModel",
            "_view_count": null,
            "_view_module": "@jupyter-widgets/base",
            "_view_module_version": "1.2.0",
            "_view_name": "LayoutView",
            "align_content": null,
            "align_items": null,
            "align_self": null,
            "border": null,
            "bottom": null,
            "display": null,
            "flex": null,
            "flex_flow": null,
            "grid_area": null,
            "grid_auto_columns": null,
            "grid_auto_flow": null,
            "grid_auto_rows": null,
            "grid_column": null,
            "grid_gap": null,
            "grid_row": null,
            "grid_template_areas": null,
            "grid_template_columns": null,
            "grid_template_rows": null,
            "height": null,
            "justify_content": null,
            "justify_items": null,
            "left": null,
            "margin": null,
            "max_height": null,
            "max_width": null,
            "min_height": null,
            "min_width": null,
            "object_fit": null,
            "object_position": null,
            "order": null,
            "overflow": null,
            "overflow_x": null,
            "overflow_y": null,
            "padding": null,
            "right": null,
            "top": null,
            "visibility": "hidden",
            "width": null
          }
        },
        "90fec76479174c6c941ffc2e1fcd8b2a": {
          "model_module": "@jupyter-widgets/base",
          "model_name": "LayoutModel",
          "model_module_version": "1.2.0",
          "state": {
            "_model_module": "@jupyter-widgets/base",
            "_model_module_version": "1.2.0",
            "_model_name": "LayoutModel",
            "_view_count": null,
            "_view_module": "@jupyter-widgets/base",
            "_view_module_version": "1.2.0",
            "_view_name": "LayoutView",
            "align_content": null,
            "align_items": null,
            "align_self": null,
            "border": null,
            "bottom": null,
            "display": null,
            "flex": null,
            "flex_flow": null,
            "grid_area": null,
            "grid_auto_columns": null,
            "grid_auto_flow": null,
            "grid_auto_rows": null,
            "grid_column": null,
            "grid_gap": null,
            "grid_row": null,
            "grid_template_areas": null,
            "grid_template_columns": null,
            "grid_template_rows": null,
            "height": null,
            "justify_content": null,
            "justify_items": null,
            "left": null,
            "margin": null,
            "max_height": null,
            "max_width": null,
            "min_height": null,
            "min_width": null,
            "object_fit": null,
            "object_position": null,
            "order": null,
            "overflow": null,
            "overflow_x": null,
            "overflow_y": null,
            "padding": null,
            "right": null,
            "top": null,
            "visibility": null,
            "width": null
          }
        },
        "1428de8a837643369697d18ad56fd98e": {
          "model_module": "@jupyter-widgets/controls",
          "model_name": "DescriptionStyleModel",
          "model_module_version": "1.5.0",
          "state": {
            "_model_module": "@jupyter-widgets/controls",
            "_model_module_version": "1.5.0",
            "_model_name": "DescriptionStyleModel",
            "_view_count": null,
            "_view_module": "@jupyter-widgets/base",
            "_view_module_version": "1.2.0",
            "_view_name": "StyleView",
            "description_width": ""
          }
        },
        "0bfba263f1774d1ab9f1a51298f8710e": {
          "model_module": "@jupyter-widgets/base",
          "model_name": "LayoutModel",
          "model_module_version": "1.2.0",
          "state": {
            "_model_module": "@jupyter-widgets/base",
            "_model_module_version": "1.2.0",
            "_model_name": "LayoutModel",
            "_view_count": null,
            "_view_module": "@jupyter-widgets/base",
            "_view_module_version": "1.2.0",
            "_view_name": "LayoutView",
            "align_content": null,
            "align_items": null,
            "align_self": null,
            "border": null,
            "bottom": null,
            "display": null,
            "flex": null,
            "flex_flow": null,
            "grid_area": null,
            "grid_auto_columns": null,
            "grid_auto_flow": null,
            "grid_auto_rows": null,
            "grid_column": null,
            "grid_gap": null,
            "grid_row": null,
            "grid_template_areas": null,
            "grid_template_columns": null,
            "grid_template_rows": null,
            "height": null,
            "justify_content": null,
            "justify_items": null,
            "left": null,
            "margin": null,
            "max_height": null,
            "max_width": null,
            "min_height": null,
            "min_width": null,
            "object_fit": null,
            "object_position": null,
            "order": null,
            "overflow": null,
            "overflow_x": null,
            "overflow_y": null,
            "padding": null,
            "right": null,
            "top": null,
            "visibility": null,
            "width": "20px"
          }
        },
        "fad00696246646b6841327537a9b5529": {
          "model_module": "@jupyter-widgets/controls",
          "model_name": "ProgressStyleModel",
          "model_module_version": "1.5.0",
          "state": {
            "_model_module": "@jupyter-widgets/controls",
            "_model_module_version": "1.5.0",
            "_model_name": "ProgressStyleModel",
            "_view_count": null,
            "_view_module": "@jupyter-widgets/base",
            "_view_module_version": "1.2.0",
            "_view_name": "StyleView",
            "bar_color": null,
            "description_width": ""
          }
        },
        "f762c76b83d0461aaa36bc27049dae77": {
          "model_module": "@jupyter-widgets/base",
          "model_name": "LayoutModel",
          "model_module_version": "1.2.0",
          "state": {
            "_model_module": "@jupyter-widgets/base",
            "_model_module_version": "1.2.0",
            "_model_name": "LayoutModel",
            "_view_count": null,
            "_view_module": "@jupyter-widgets/base",
            "_view_module_version": "1.2.0",
            "_view_name": "LayoutView",
            "align_content": null,
            "align_items": null,
            "align_self": null,
            "border": null,
            "bottom": null,
            "display": null,
            "flex": null,
            "flex_flow": null,
            "grid_area": null,
            "grid_auto_columns": null,
            "grid_auto_flow": null,
            "grid_auto_rows": null,
            "grid_column": null,
            "grid_gap": null,
            "grid_row": null,
            "grid_template_areas": null,
            "grid_template_columns": null,
            "grid_template_rows": null,
            "height": null,
            "justify_content": null,
            "justify_items": null,
            "left": null,
            "margin": null,
            "max_height": null,
            "max_width": null,
            "min_height": null,
            "min_width": null,
            "object_fit": null,
            "object_position": null,
            "order": null,
            "overflow": null,
            "overflow_x": null,
            "overflow_y": null,
            "padding": null,
            "right": null,
            "top": null,
            "visibility": null,
            "width": null
          }
        },
        "924ab177f308409fa05e5bfd6430f0bb": {
          "model_module": "@jupyter-widgets/controls",
          "model_name": "DescriptionStyleModel",
          "model_module_version": "1.5.0",
          "state": {
            "_model_module": "@jupyter-widgets/controls",
            "_model_module_version": "1.5.0",
            "_model_name": "DescriptionStyleModel",
            "_view_count": null,
            "_view_module": "@jupyter-widgets/base",
            "_view_module_version": "1.2.0",
            "_view_name": "StyleView",
            "description_width": ""
          }
        },
        "6b86c839ab154b9a9d336b1931d72d55": {
          "model_module": "@jupyter-widgets/controls",
          "model_name": "HBoxModel",
          "model_module_version": "1.5.0",
          "state": {
            "_dom_classes": [],
            "_model_module": "@jupyter-widgets/controls",
            "_model_module_version": "1.5.0",
            "_model_name": "HBoxModel",
            "_view_count": null,
            "_view_module": "@jupyter-widgets/controls",
            "_view_module_version": "1.5.0",
            "_view_name": "HBoxView",
            "box_style": "",
            "children": [
              "IPY_MODEL_538b59f02c9d497895be1ffeb30c3dc7",
              "IPY_MODEL_16f237488f354044bd960937bbb905aa",
              "IPY_MODEL_4573a3801b3246c088e0b8e71a8aeaef"
            ],
            "layout": "IPY_MODEL_f21039e507d44135a1f931efb6f11b32"
          }
        },
        "538b59f02c9d497895be1ffeb30c3dc7": {
          "model_module": "@jupyter-widgets/controls",
          "model_name": "HTMLModel",
          "model_module_version": "1.5.0",
          "state": {
            "_dom_classes": [],
            "_model_module": "@jupyter-widgets/controls",
            "_model_module_version": "1.5.0",
            "_model_name": "HTMLModel",
            "_view_count": null,
            "_view_module": "@jupyter-widgets/controls",
            "_view_module_version": "1.5.0",
            "_view_name": "HTMLView",
            "description": "",
            "description_tooltip": null,
            "layout": "IPY_MODEL_23d865bef12848f1a421a7702c990180",
            "placeholder": "​",
            "style": "IPY_MODEL_f96a08194d71434b849ec2fd89f30f45",
            "value": "Shuffling /root/tensorflow_datasets/cifar10/3.0.2.incompleteWXVMYO/cifar10-train.tfrecord*...:  82%"
          }
        },
        "16f237488f354044bd960937bbb905aa": {
          "model_module": "@jupyter-widgets/controls",
          "model_name": "FloatProgressModel",
          "model_module_version": "1.5.0",
          "state": {
            "_dom_classes": [],
            "_model_module": "@jupyter-widgets/controls",
            "_model_module_version": "1.5.0",
            "_model_name": "FloatProgressModel",
            "_view_count": null,
            "_view_module": "@jupyter-widgets/controls",
            "_view_module_version": "1.5.0",
            "_view_name": "ProgressView",
            "bar_style": "",
            "description": "",
            "description_tooltip": null,
            "layout": "IPY_MODEL_1c50060e362a468db37d8a3627380712",
            "max": 50000,
            "min": 0,
            "orientation": "horizontal",
            "style": "IPY_MODEL_b47bd5e84c1f4b44991c9a51ad5bac59",
            "value": 50000
          }
        },
        "4573a3801b3246c088e0b8e71a8aeaef": {
          "model_module": "@jupyter-widgets/controls",
          "model_name": "HTMLModel",
          "model_module_version": "1.5.0",
          "state": {
            "_dom_classes": [],
            "_model_module": "@jupyter-widgets/controls",
            "_model_module_version": "1.5.0",
            "_model_name": "HTMLModel",
            "_view_count": null,
            "_view_module": "@jupyter-widgets/controls",
            "_view_module_version": "1.5.0",
            "_view_name": "HTMLView",
            "description": "",
            "description_tooltip": null,
            "layout": "IPY_MODEL_412dcf51751f44a384930008d5b0efa3",
            "placeholder": "​",
            "style": "IPY_MODEL_798f55a0f2104cf9bbf0bc51ed152e61",
            "value": " 41157/50000 [00:00&lt;00:00, 147513.25 examples/s]"
          }
        },
        "f21039e507d44135a1f931efb6f11b32": {
          "model_module": "@jupyter-widgets/base",
          "model_name": "LayoutModel",
          "model_module_version": "1.2.0",
          "state": {
            "_model_module": "@jupyter-widgets/base",
            "_model_module_version": "1.2.0",
            "_model_name": "LayoutModel",
            "_view_count": null,
            "_view_module": "@jupyter-widgets/base",
            "_view_module_version": "1.2.0",
            "_view_name": "LayoutView",
            "align_content": null,
            "align_items": null,
            "align_self": null,
            "border": null,
            "bottom": null,
            "display": null,
            "flex": null,
            "flex_flow": null,
            "grid_area": null,
            "grid_auto_columns": null,
            "grid_auto_flow": null,
            "grid_auto_rows": null,
            "grid_column": null,
            "grid_gap": null,
            "grid_row": null,
            "grid_template_areas": null,
            "grid_template_columns": null,
            "grid_template_rows": null,
            "height": null,
            "justify_content": null,
            "justify_items": null,
            "left": null,
            "margin": null,
            "max_height": null,
            "max_width": null,
            "min_height": null,
            "min_width": null,
            "object_fit": null,
            "object_position": null,
            "order": null,
            "overflow": null,
            "overflow_x": null,
            "overflow_y": null,
            "padding": null,
            "right": null,
            "top": null,
            "visibility": "hidden",
            "width": null
          }
        },
        "23d865bef12848f1a421a7702c990180": {
          "model_module": "@jupyter-widgets/base",
          "model_name": "LayoutModel",
          "model_module_version": "1.2.0",
          "state": {
            "_model_module": "@jupyter-widgets/base",
            "_model_module_version": "1.2.0",
            "_model_name": "LayoutModel",
            "_view_count": null,
            "_view_module": "@jupyter-widgets/base",
            "_view_module_version": "1.2.0",
            "_view_name": "LayoutView",
            "align_content": null,
            "align_items": null,
            "align_self": null,
            "border": null,
            "bottom": null,
            "display": null,
            "flex": null,
            "flex_flow": null,
            "grid_area": null,
            "grid_auto_columns": null,
            "grid_auto_flow": null,
            "grid_auto_rows": null,
            "grid_column": null,
            "grid_gap": null,
            "grid_row": null,
            "grid_template_areas": null,
            "grid_template_columns": null,
            "grid_template_rows": null,
            "height": null,
            "justify_content": null,
            "justify_items": null,
            "left": null,
            "margin": null,
            "max_height": null,
            "max_width": null,
            "min_height": null,
            "min_width": null,
            "object_fit": null,
            "object_position": null,
            "order": null,
            "overflow": null,
            "overflow_x": null,
            "overflow_y": null,
            "padding": null,
            "right": null,
            "top": null,
            "visibility": null,
            "width": null
          }
        },
        "f96a08194d71434b849ec2fd89f30f45": {
          "model_module": "@jupyter-widgets/controls",
          "model_name": "DescriptionStyleModel",
          "model_module_version": "1.5.0",
          "state": {
            "_model_module": "@jupyter-widgets/controls",
            "_model_module_version": "1.5.0",
            "_model_name": "DescriptionStyleModel",
            "_view_count": null,
            "_view_module": "@jupyter-widgets/base",
            "_view_module_version": "1.2.0",
            "_view_name": "StyleView",
            "description_width": ""
          }
        },
        "1c50060e362a468db37d8a3627380712": {
          "model_module": "@jupyter-widgets/base",
          "model_name": "LayoutModel",
          "model_module_version": "1.2.0",
          "state": {
            "_model_module": "@jupyter-widgets/base",
            "_model_module_version": "1.2.0",
            "_model_name": "LayoutModel",
            "_view_count": null,
            "_view_module": "@jupyter-widgets/base",
            "_view_module_version": "1.2.0",
            "_view_name": "LayoutView",
            "align_content": null,
            "align_items": null,
            "align_self": null,
            "border": null,
            "bottom": null,
            "display": null,
            "flex": null,
            "flex_flow": null,
            "grid_area": null,
            "grid_auto_columns": null,
            "grid_auto_flow": null,
            "grid_auto_rows": null,
            "grid_column": null,
            "grid_gap": null,
            "grid_row": null,
            "grid_template_areas": null,
            "grid_template_columns": null,
            "grid_template_rows": null,
            "height": null,
            "justify_content": null,
            "justify_items": null,
            "left": null,
            "margin": null,
            "max_height": null,
            "max_width": null,
            "min_height": null,
            "min_width": null,
            "object_fit": null,
            "object_position": null,
            "order": null,
            "overflow": null,
            "overflow_x": null,
            "overflow_y": null,
            "padding": null,
            "right": null,
            "top": null,
            "visibility": null,
            "width": null
          }
        },
        "b47bd5e84c1f4b44991c9a51ad5bac59": {
          "model_module": "@jupyter-widgets/controls",
          "model_name": "ProgressStyleModel",
          "model_module_version": "1.5.0",
          "state": {
            "_model_module": "@jupyter-widgets/controls",
            "_model_module_version": "1.5.0",
            "_model_name": "ProgressStyleModel",
            "_view_count": null,
            "_view_module": "@jupyter-widgets/base",
            "_view_module_version": "1.2.0",
            "_view_name": "StyleView",
            "bar_color": null,
            "description_width": ""
          }
        },
        "412dcf51751f44a384930008d5b0efa3": {
          "model_module": "@jupyter-widgets/base",
          "model_name": "LayoutModel",
          "model_module_version": "1.2.0",
          "state": {
            "_model_module": "@jupyter-widgets/base",
            "_model_module_version": "1.2.0",
            "_model_name": "LayoutModel",
            "_view_count": null,
            "_view_module": "@jupyter-widgets/base",
            "_view_module_version": "1.2.0",
            "_view_name": "LayoutView",
            "align_content": null,
            "align_items": null,
            "align_self": null,
            "border": null,
            "bottom": null,
            "display": null,
            "flex": null,
            "flex_flow": null,
            "grid_area": null,
            "grid_auto_columns": null,
            "grid_auto_flow": null,
            "grid_auto_rows": null,
            "grid_column": null,
            "grid_gap": null,
            "grid_row": null,
            "grid_template_areas": null,
            "grid_template_columns": null,
            "grid_template_rows": null,
            "height": null,
            "justify_content": null,
            "justify_items": null,
            "left": null,
            "margin": null,
            "max_height": null,
            "max_width": null,
            "min_height": null,
            "min_width": null,
            "object_fit": null,
            "object_position": null,
            "order": null,
            "overflow": null,
            "overflow_x": null,
            "overflow_y": null,
            "padding": null,
            "right": null,
            "top": null,
            "visibility": null,
            "width": null
          }
        },
        "798f55a0f2104cf9bbf0bc51ed152e61": {
          "model_module": "@jupyter-widgets/controls",
          "model_name": "DescriptionStyleModel",
          "model_module_version": "1.5.0",
          "state": {
            "_model_module": "@jupyter-widgets/controls",
            "_model_module_version": "1.5.0",
            "_model_name": "DescriptionStyleModel",
            "_view_count": null,
            "_view_module": "@jupyter-widgets/base",
            "_view_module_version": "1.2.0",
            "_view_name": "StyleView",
            "description_width": ""
          }
        },
        "893d00cbcbf94b329a113571368c38ca": {
          "model_module": "@jupyter-widgets/controls",
          "model_name": "HBoxModel",
          "model_module_version": "1.5.0",
          "state": {
            "_dom_classes": [],
            "_model_module": "@jupyter-widgets/controls",
            "_model_module_version": "1.5.0",
            "_model_name": "HBoxModel",
            "_view_count": null,
            "_view_module": "@jupyter-widgets/controls",
            "_view_module_version": "1.5.0",
            "_view_name": "HBoxView",
            "box_style": "",
            "children": [
              "IPY_MODEL_ad567fbb8529462fbb63e42e703efc70",
              "IPY_MODEL_6c1a1b5c47e244ed86f2a2c57d0da0e5",
              "IPY_MODEL_9c676ccda2fa4764a00c709198de75ff"
            ],
            "layout": "IPY_MODEL_8f85707f887d4188a12bf1e34288d72a"
          }
        },
        "ad567fbb8529462fbb63e42e703efc70": {
          "model_module": "@jupyter-widgets/controls",
          "model_name": "HTMLModel",
          "model_module_version": "1.5.0",
          "state": {
            "_dom_classes": [],
            "_model_module": "@jupyter-widgets/controls",
            "_model_module_version": "1.5.0",
            "_model_name": "HTMLModel",
            "_view_count": null,
            "_view_module": "@jupyter-widgets/controls",
            "_view_module_version": "1.5.0",
            "_view_name": "HTMLView",
            "description": "",
            "description_tooltip": null,
            "layout": "IPY_MODEL_fa7ce02864904ffa91449500210db303",
            "placeholder": "​",
            "style": "IPY_MODEL_16ad2ebc6beb4340b5ab233f505310d4",
            "value": "Generating test examples...: "
          }
        },
        "6c1a1b5c47e244ed86f2a2c57d0da0e5": {
          "model_module": "@jupyter-widgets/controls",
          "model_name": "FloatProgressModel",
          "model_module_version": "1.5.0",
          "state": {
            "_dom_classes": [],
            "_model_module": "@jupyter-widgets/controls",
            "_model_module_version": "1.5.0",
            "_model_name": "FloatProgressModel",
            "_view_count": null,
            "_view_module": "@jupyter-widgets/controls",
            "_view_module_version": "1.5.0",
            "_view_name": "ProgressView",
            "bar_style": "info",
            "description": "",
            "description_tooltip": null,
            "layout": "IPY_MODEL_99c3cf6ce3db41c8b3e104c4c033b9ab",
            "max": 1,
            "min": 0,
            "orientation": "horizontal",
            "style": "IPY_MODEL_536c40531881453ab08b77209e35b4de",
            "value": 1
          }
        },
        "9c676ccda2fa4764a00c709198de75ff": {
          "model_module": "@jupyter-widgets/controls",
          "model_name": "HTMLModel",
          "model_module_version": "1.5.0",
          "state": {
            "_dom_classes": [],
            "_model_module": "@jupyter-widgets/controls",
            "_model_module_version": "1.5.0",
            "_model_name": "HTMLModel",
            "_view_count": null,
            "_view_module": "@jupyter-widgets/controls",
            "_view_module_version": "1.5.0",
            "_view_name": "HTMLView",
            "description": "",
            "description_tooltip": null,
            "layout": "IPY_MODEL_d30f450472144b2ba5a542105a3aaa04",
            "placeholder": "​",
            "style": "IPY_MODEL_e3f131683cbe402983df5cd39e95ef57",
            "value": " 9922/? [00:09&lt;00:00, 861.23 examples/s]"
          }
        },
        "8f85707f887d4188a12bf1e34288d72a": {
          "model_module": "@jupyter-widgets/base",
          "model_name": "LayoutModel",
          "model_module_version": "1.2.0",
          "state": {
            "_model_module": "@jupyter-widgets/base",
            "_model_module_version": "1.2.0",
            "_model_name": "LayoutModel",
            "_view_count": null,
            "_view_module": "@jupyter-widgets/base",
            "_view_module_version": "1.2.0",
            "_view_name": "LayoutView",
            "align_content": null,
            "align_items": null,
            "align_self": null,
            "border": null,
            "bottom": null,
            "display": null,
            "flex": null,
            "flex_flow": null,
            "grid_area": null,
            "grid_auto_columns": null,
            "grid_auto_flow": null,
            "grid_auto_rows": null,
            "grid_column": null,
            "grid_gap": null,
            "grid_row": null,
            "grid_template_areas": null,
            "grid_template_columns": null,
            "grid_template_rows": null,
            "height": null,
            "justify_content": null,
            "justify_items": null,
            "left": null,
            "margin": null,
            "max_height": null,
            "max_width": null,
            "min_height": null,
            "min_width": null,
            "object_fit": null,
            "object_position": null,
            "order": null,
            "overflow": null,
            "overflow_x": null,
            "overflow_y": null,
            "padding": null,
            "right": null,
            "top": null,
            "visibility": "hidden",
            "width": null
          }
        },
        "fa7ce02864904ffa91449500210db303": {
          "model_module": "@jupyter-widgets/base",
          "model_name": "LayoutModel",
          "model_module_version": "1.2.0",
          "state": {
            "_model_module": "@jupyter-widgets/base",
            "_model_module_version": "1.2.0",
            "_model_name": "LayoutModel",
            "_view_count": null,
            "_view_module": "@jupyter-widgets/base",
            "_view_module_version": "1.2.0",
            "_view_name": "LayoutView",
            "align_content": null,
            "align_items": null,
            "align_self": null,
            "border": null,
            "bottom": null,
            "display": null,
            "flex": null,
            "flex_flow": null,
            "grid_area": null,
            "grid_auto_columns": null,
            "grid_auto_flow": null,
            "grid_auto_rows": null,
            "grid_column": null,
            "grid_gap": null,
            "grid_row": null,
            "grid_template_areas": null,
            "grid_template_columns": null,
            "grid_template_rows": null,
            "height": null,
            "justify_content": null,
            "justify_items": null,
            "left": null,
            "margin": null,
            "max_height": null,
            "max_width": null,
            "min_height": null,
            "min_width": null,
            "object_fit": null,
            "object_position": null,
            "order": null,
            "overflow": null,
            "overflow_x": null,
            "overflow_y": null,
            "padding": null,
            "right": null,
            "top": null,
            "visibility": null,
            "width": null
          }
        },
        "16ad2ebc6beb4340b5ab233f505310d4": {
          "model_module": "@jupyter-widgets/controls",
          "model_name": "DescriptionStyleModel",
          "model_module_version": "1.5.0",
          "state": {
            "_model_module": "@jupyter-widgets/controls",
            "_model_module_version": "1.5.0",
            "_model_name": "DescriptionStyleModel",
            "_view_count": null,
            "_view_module": "@jupyter-widgets/base",
            "_view_module_version": "1.2.0",
            "_view_name": "StyleView",
            "description_width": ""
          }
        },
        "99c3cf6ce3db41c8b3e104c4c033b9ab": {
          "model_module": "@jupyter-widgets/base",
          "model_name": "LayoutModel",
          "model_module_version": "1.2.0",
          "state": {
            "_model_module": "@jupyter-widgets/base",
            "_model_module_version": "1.2.0",
            "_model_name": "LayoutModel",
            "_view_count": null,
            "_view_module": "@jupyter-widgets/base",
            "_view_module_version": "1.2.0",
            "_view_name": "LayoutView",
            "align_content": null,
            "align_items": null,
            "align_self": null,
            "border": null,
            "bottom": null,
            "display": null,
            "flex": null,
            "flex_flow": null,
            "grid_area": null,
            "grid_auto_columns": null,
            "grid_auto_flow": null,
            "grid_auto_rows": null,
            "grid_column": null,
            "grid_gap": null,
            "grid_row": null,
            "grid_template_areas": null,
            "grid_template_columns": null,
            "grid_template_rows": null,
            "height": null,
            "justify_content": null,
            "justify_items": null,
            "left": null,
            "margin": null,
            "max_height": null,
            "max_width": null,
            "min_height": null,
            "min_width": null,
            "object_fit": null,
            "object_position": null,
            "order": null,
            "overflow": null,
            "overflow_x": null,
            "overflow_y": null,
            "padding": null,
            "right": null,
            "top": null,
            "visibility": null,
            "width": "20px"
          }
        },
        "536c40531881453ab08b77209e35b4de": {
          "model_module": "@jupyter-widgets/controls",
          "model_name": "ProgressStyleModel",
          "model_module_version": "1.5.0",
          "state": {
            "_model_module": "@jupyter-widgets/controls",
            "_model_module_version": "1.5.0",
            "_model_name": "ProgressStyleModel",
            "_view_count": null,
            "_view_module": "@jupyter-widgets/base",
            "_view_module_version": "1.2.0",
            "_view_name": "StyleView",
            "bar_color": null,
            "description_width": ""
          }
        },
        "d30f450472144b2ba5a542105a3aaa04": {
          "model_module": "@jupyter-widgets/base",
          "model_name": "LayoutModel",
          "model_module_version": "1.2.0",
          "state": {
            "_model_module": "@jupyter-widgets/base",
            "_model_module_version": "1.2.0",
            "_model_name": "LayoutModel",
            "_view_count": null,
            "_view_module": "@jupyter-widgets/base",
            "_view_module_version": "1.2.0",
            "_view_name": "LayoutView",
            "align_content": null,
            "align_items": null,
            "align_self": null,
            "border": null,
            "bottom": null,
            "display": null,
            "flex": null,
            "flex_flow": null,
            "grid_area": null,
            "grid_auto_columns": null,
            "grid_auto_flow": null,
            "grid_auto_rows": null,
            "grid_column": null,
            "grid_gap": null,
            "grid_row": null,
            "grid_template_areas": null,
            "grid_template_columns": null,
            "grid_template_rows": null,
            "height": null,
            "justify_content": null,
            "justify_items": null,
            "left": null,
            "margin": null,
            "max_height": null,
            "max_width": null,
            "min_height": null,
            "min_width": null,
            "object_fit": null,
            "object_position": null,
            "order": null,
            "overflow": null,
            "overflow_x": null,
            "overflow_y": null,
            "padding": null,
            "right": null,
            "top": null,
            "visibility": null,
            "width": null
          }
        },
        "e3f131683cbe402983df5cd39e95ef57": {
          "model_module": "@jupyter-widgets/controls",
          "model_name": "DescriptionStyleModel",
          "model_module_version": "1.5.0",
          "state": {
            "_model_module": "@jupyter-widgets/controls",
            "_model_module_version": "1.5.0",
            "_model_name": "DescriptionStyleModel",
            "_view_count": null,
            "_view_module": "@jupyter-widgets/base",
            "_view_module_version": "1.2.0",
            "_view_name": "StyleView",
            "description_width": ""
          }
        },
        "c3e28f141e1340319f791a49755dd3cf": {
          "model_module": "@jupyter-widgets/controls",
          "model_name": "HBoxModel",
          "model_module_version": "1.5.0",
          "state": {
            "_dom_classes": [],
            "_model_module": "@jupyter-widgets/controls",
            "_model_module_version": "1.5.0",
            "_model_name": "HBoxModel",
            "_view_count": null,
            "_view_module": "@jupyter-widgets/controls",
            "_view_module_version": "1.5.0",
            "_view_name": "HBoxView",
            "box_style": "",
            "children": [
              "IPY_MODEL_64d20778b5904285bc5a36bda6e27ba7",
              "IPY_MODEL_bd9dae61ae554e86bcfe8dcaa9f9a733",
              "IPY_MODEL_7ded27ef837646d794b4d08f1538ef97"
            ],
            "layout": "IPY_MODEL_6c79a150770f4bfbb81a8edac0c0069b"
          }
        },
        "64d20778b5904285bc5a36bda6e27ba7": {
          "model_module": "@jupyter-widgets/controls",
          "model_name": "HTMLModel",
          "model_module_version": "1.5.0",
          "state": {
            "_dom_classes": [],
            "_model_module": "@jupyter-widgets/controls",
            "_model_module_version": "1.5.0",
            "_model_name": "HTMLModel",
            "_view_count": null,
            "_view_module": "@jupyter-widgets/controls",
            "_view_module_version": "1.5.0",
            "_view_name": "HTMLView",
            "description": "",
            "description_tooltip": null,
            "layout": "IPY_MODEL_fe4ccbdbeb7343a7b0fc13abd3aad58e",
            "placeholder": "​",
            "style": "IPY_MODEL_6b357cbde9484f85a77c325df46e01bf",
            "value": "Shuffling /root/tensorflow_datasets/cifar10/3.0.2.incompleteWXVMYO/cifar10-test.tfrecord*...:  81%"
          }
        },
        "bd9dae61ae554e86bcfe8dcaa9f9a733": {
          "model_module": "@jupyter-widgets/controls",
          "model_name": "FloatProgressModel",
          "model_module_version": "1.5.0",
          "state": {
            "_dom_classes": [],
            "_model_module": "@jupyter-widgets/controls",
            "_model_module_version": "1.5.0",
            "_model_name": "FloatProgressModel",
            "_view_count": null,
            "_view_module": "@jupyter-widgets/controls",
            "_view_module_version": "1.5.0",
            "_view_name": "ProgressView",
            "bar_style": "",
            "description": "",
            "description_tooltip": null,
            "layout": "IPY_MODEL_783da9f0d03b47f494cc0fd97ad53b33",
            "max": 10000,
            "min": 0,
            "orientation": "horizontal",
            "style": "IPY_MODEL_4fc040797ce14c52b9ef5049f15412dd",
            "value": 10000
          }
        },
        "7ded27ef837646d794b4d08f1538ef97": {
          "model_module": "@jupyter-widgets/controls",
          "model_name": "HTMLModel",
          "model_module_version": "1.5.0",
          "state": {
            "_dom_classes": [],
            "_model_module": "@jupyter-widgets/controls",
            "_model_module_version": "1.5.0",
            "_model_name": "HTMLModel",
            "_view_count": null,
            "_view_module": "@jupyter-widgets/controls",
            "_view_module_version": "1.5.0",
            "_view_name": "HTMLView",
            "description": "",
            "description_tooltip": null,
            "layout": "IPY_MODEL_cce4c1c69d0e4fd78a8d48a0795f6986",
            "placeholder": "​",
            "style": "IPY_MODEL_a010436b3444455c80cc9f9d12a050da",
            "value": " 8147/10000 [00:00&lt;00:00, 81455.32 examples/s]"
          }
        },
        "6c79a150770f4bfbb81a8edac0c0069b": {
          "model_module": "@jupyter-widgets/base",
          "model_name": "LayoutModel",
          "model_module_version": "1.2.0",
          "state": {
            "_model_module": "@jupyter-widgets/base",
            "_model_module_version": "1.2.0",
            "_model_name": "LayoutModel",
            "_view_count": null,
            "_view_module": "@jupyter-widgets/base",
            "_view_module_version": "1.2.0",
            "_view_name": "LayoutView",
            "align_content": null,
            "align_items": null,
            "align_self": null,
            "border": null,
            "bottom": null,
            "display": null,
            "flex": null,
            "flex_flow": null,
            "grid_area": null,
            "grid_auto_columns": null,
            "grid_auto_flow": null,
            "grid_auto_rows": null,
            "grid_column": null,
            "grid_gap": null,
            "grid_row": null,
            "grid_template_areas": null,
            "grid_template_columns": null,
            "grid_template_rows": null,
            "height": null,
            "justify_content": null,
            "justify_items": null,
            "left": null,
            "margin": null,
            "max_height": null,
            "max_width": null,
            "min_height": null,
            "min_width": null,
            "object_fit": null,
            "object_position": null,
            "order": null,
            "overflow": null,
            "overflow_x": null,
            "overflow_y": null,
            "padding": null,
            "right": null,
            "top": null,
            "visibility": "hidden",
            "width": null
          }
        },
        "fe4ccbdbeb7343a7b0fc13abd3aad58e": {
          "model_module": "@jupyter-widgets/base",
          "model_name": "LayoutModel",
          "model_module_version": "1.2.0",
          "state": {
            "_model_module": "@jupyter-widgets/base",
            "_model_module_version": "1.2.0",
            "_model_name": "LayoutModel",
            "_view_count": null,
            "_view_module": "@jupyter-widgets/base",
            "_view_module_version": "1.2.0",
            "_view_name": "LayoutView",
            "align_content": null,
            "align_items": null,
            "align_self": null,
            "border": null,
            "bottom": null,
            "display": null,
            "flex": null,
            "flex_flow": null,
            "grid_area": null,
            "grid_auto_columns": null,
            "grid_auto_flow": null,
            "grid_auto_rows": null,
            "grid_column": null,
            "grid_gap": null,
            "grid_row": null,
            "grid_template_areas": null,
            "grid_template_columns": null,
            "grid_template_rows": null,
            "height": null,
            "justify_content": null,
            "justify_items": null,
            "left": null,
            "margin": null,
            "max_height": null,
            "max_width": null,
            "min_height": null,
            "min_width": null,
            "object_fit": null,
            "object_position": null,
            "order": null,
            "overflow": null,
            "overflow_x": null,
            "overflow_y": null,
            "padding": null,
            "right": null,
            "top": null,
            "visibility": null,
            "width": null
          }
        },
        "6b357cbde9484f85a77c325df46e01bf": {
          "model_module": "@jupyter-widgets/controls",
          "model_name": "DescriptionStyleModel",
          "model_module_version": "1.5.0",
          "state": {
            "_model_module": "@jupyter-widgets/controls",
            "_model_module_version": "1.5.0",
            "_model_name": "DescriptionStyleModel",
            "_view_count": null,
            "_view_module": "@jupyter-widgets/base",
            "_view_module_version": "1.2.0",
            "_view_name": "StyleView",
            "description_width": ""
          }
        },
        "783da9f0d03b47f494cc0fd97ad53b33": {
          "model_module": "@jupyter-widgets/base",
          "model_name": "LayoutModel",
          "model_module_version": "1.2.0",
          "state": {
            "_model_module": "@jupyter-widgets/base",
            "_model_module_version": "1.2.0",
            "_model_name": "LayoutModel",
            "_view_count": null,
            "_view_module": "@jupyter-widgets/base",
            "_view_module_version": "1.2.0",
            "_view_name": "LayoutView",
            "align_content": null,
            "align_items": null,
            "align_self": null,
            "border": null,
            "bottom": null,
            "display": null,
            "flex": null,
            "flex_flow": null,
            "grid_area": null,
            "grid_auto_columns": null,
            "grid_auto_flow": null,
            "grid_auto_rows": null,
            "grid_column": null,
            "grid_gap": null,
            "grid_row": null,
            "grid_template_areas": null,
            "grid_template_columns": null,
            "grid_template_rows": null,
            "height": null,
            "justify_content": null,
            "justify_items": null,
            "left": null,
            "margin": null,
            "max_height": null,
            "max_width": null,
            "min_height": null,
            "min_width": null,
            "object_fit": null,
            "object_position": null,
            "order": null,
            "overflow": null,
            "overflow_x": null,
            "overflow_y": null,
            "padding": null,
            "right": null,
            "top": null,
            "visibility": null,
            "width": null
          }
        },
        "4fc040797ce14c52b9ef5049f15412dd": {
          "model_module": "@jupyter-widgets/controls",
          "model_name": "ProgressStyleModel",
          "model_module_version": "1.5.0",
          "state": {
            "_model_module": "@jupyter-widgets/controls",
            "_model_module_version": "1.5.0",
            "_model_name": "ProgressStyleModel",
            "_view_count": null,
            "_view_module": "@jupyter-widgets/base",
            "_view_module_version": "1.2.0",
            "_view_name": "StyleView",
            "bar_color": null,
            "description_width": ""
          }
        },
        "cce4c1c69d0e4fd78a8d48a0795f6986": {
          "model_module": "@jupyter-widgets/base",
          "model_name": "LayoutModel",
          "model_module_version": "1.2.0",
          "state": {
            "_model_module": "@jupyter-widgets/base",
            "_model_module_version": "1.2.0",
            "_model_name": "LayoutModel",
            "_view_count": null,
            "_view_module": "@jupyter-widgets/base",
            "_view_module_version": "1.2.0",
            "_view_name": "LayoutView",
            "align_content": null,
            "align_items": null,
            "align_self": null,
            "border": null,
            "bottom": null,
            "display": null,
            "flex": null,
            "flex_flow": null,
            "grid_area": null,
            "grid_auto_columns": null,
            "grid_auto_flow": null,
            "grid_auto_rows": null,
            "grid_column": null,
            "grid_gap": null,
            "grid_row": null,
            "grid_template_areas": null,
            "grid_template_columns": null,
            "grid_template_rows": null,
            "height": null,
            "justify_content": null,
            "justify_items": null,
            "left": null,
            "margin": null,
            "max_height": null,
            "max_width": null,
            "min_height": null,
            "min_width": null,
            "object_fit": null,
            "object_position": null,
            "order": null,
            "overflow": null,
            "overflow_x": null,
            "overflow_y": null,
            "padding": null,
            "right": null,
            "top": null,
            "visibility": null,
            "width": null
          }
        },
        "a010436b3444455c80cc9f9d12a050da": {
          "model_module": "@jupyter-widgets/controls",
          "model_name": "DescriptionStyleModel",
          "model_module_version": "1.5.0",
          "state": {
            "_model_module": "@jupyter-widgets/controls",
            "_model_module_version": "1.5.0",
            "_model_name": "DescriptionStyleModel",
            "_view_count": null,
            "_view_module": "@jupyter-widgets/base",
            "_view_module_version": "1.2.0",
            "_view_name": "StyleView",
            "description_width": ""
          }
        }
      }
    }
  },
  "cells": [
    {
      "cell_type": "markdown",
      "source": [
        "# TensorFlow Datasets (TFDS)"
      ],
      "metadata": {
        "id": "a7hgmmgBSrzy"
      }
    },
    {
      "cell_type": "code",
      "source": [
        "from google.colab import drive\n",
        "drive.mount('/content/drive')"
      ],
      "metadata": {
        "colab": {
          "base_uri": "https://localhost:8080/"
        },
        "id": "2VbIsecbOzBE",
        "outputId": "44e254d4-3d2d-46e1-dee5-891e62fa87f5"
      },
      "execution_count": 12,
      "outputs": [
        {
          "output_type": "stream",
          "name": "stdout",
          "text": [
            "Drive already mounted at /content/drive; to attempt to forcibly remount, call drive.mount(\"/content/drive\", force_remount=True).\n"
          ]
        }
      ]
    },
    {
      "cell_type": "markdown",
      "source": [
        "## Import "
      ],
      "metadata": {
        "id": "Zy0SCe-nZ5Dq"
      }
    },
    {
      "cell_type": "code",
      "execution_count": 13,
      "metadata": {
        "id": "_ckUZn7jLyZl"
      },
      "outputs": [],
      "source": [
        "import numpy as np\n",
        "import tensorflow as tf\n",
        "import matplotlib.pyplot as plt\n",
        "import tensorflow_datasets as tfds"
      ]
    },
    {
      "cell_type": "markdown",
      "source": [
        "The tf.data API enables you to build complex input pipelines. The tf.data API introduces a tf.data.Dataset abstraction that represents a sequence of elements, in which each element consists of one or more components. For example, in an image pipeline, an element might be a single training example, with a pair of tensor components representing the image and its label.\n",
        "\n",
        "\n",
        "Have a look at the official documentation at https://www.tensorflow.org/guide/data\n",
        "\n",
        "\n",
        "\n"
      ],
      "metadata": {
        "id": "0mv2dBJhQ9_-"
      }
    },
    {
      "cell_type": "markdown",
      "source": [
        "## There are two distinct ways to create a dataset\n",
        "\n",
        "> A data source constructs a Dataset from data stored in memory or in one or more files.\n",
        "\n",
        "\n"
      ],
      "metadata": {
        "id": "mG9fPR7ORZt1"
      }
    },
    {
      "cell_type": "code",
      "source": [
        "num_classes = 10 # total classes (0-9 digits).\n",
        "num_features = 784 # data features (img shape: 28*28).\n",
        "batch_size = 128\n",
        "\n",
        "# Get the data in form of numpy array\n",
        "(x_train, y_train), (x_test, y_test) = tf.keras.datasets.mnist.load_data()\n",
        "# Convert to float32.\n",
        "x_train, x_test = np.array(x_train, np.float32), np.array(x_test, np.float32)\n",
        "# Flatten images to 1-D vector of 784 features (28*28).\n",
        "x_train, x_test = x_train.reshape([-1, num_features]), x_test.reshape([-1, num_features])\n",
        "# Normalize images value from [0, 255] to [0, 1].\n",
        "x_train, x_test = x_train / 255., x_test / 255."
      ],
      "metadata": {
        "id": "YklLGR-VRPQ7"
      },
      "execution_count": 14,
      "outputs": []
    },
    {
      "cell_type": "markdown",
      "source": [
        "For instance, to construct a Dataset from data in memory, we can use `tf.data.Dataset.from_tensors()`.\n",
        "\n",
        "Then we:\n",
        "\n",
        "\n",
        "1.   shuffle\n",
        "2.   batch\n",
        "3.   apply trasformations\n",
        "4.   eventually set the [repeat](https://www.tensorflow.org/api_docs/python/tf/data/Dataset#repeat) method\n",
        "\n",
        "Note on the `repeat()` method.\n",
        "\n",
        "We must call `repeat()` of the dataset when intend to provide an infinite dataset, and we specify the number of steps to run. This will be used in the first scenario of model construction (see *Model building (the hard way)*).\n",
        "\n",
        "On the contrary, when we leverage the `.fit()` method to train our model (see *Model building (the easy way)*)\n",
        "we do not need to call `repeat()` on the dataset, since the number of steps to run, in relation to the chosen number of epoch, is automatically managed by such `.fit()` method\n"
      ],
      "metadata": {
        "id": "gU5rJWOuSK4M"
      }
    },
    {
      "cell_type": "code",
      "source": [
        "train_data = tf.data.Dataset.from_tensor_slices((x_train, y_train))\n",
        "train_data = train_data.repeat().shuffle(5000).batch(batch_size) #shuffle data and define one to be the batch - pipeline\n",
        "#create dataset from tensor_slices"
      ],
      "metadata": {
        "id": "PrKVT0cEQ5gB"
      },
      "execution_count": 15,
      "outputs": []
    },
    {
      "cell_type": "markdown",
      "source": [
        "> A ready-to-use dataset."
      ],
      "metadata": {
        "id": "RRclGB1XPSLs"
      }
    },
    {
      "cell_type": "code",
      "source": [
        "(mnist_train, mnist_test), ds_info = tfds.load(\n",
        "    'mnist',\n",
        "    split=['train', 'test'],\n",
        "    shuffle_files=True,\n",
        "    as_supervised=True,\n",
        "    with_info=True,\n",
        ")\n",
        "#ready to use dataset"
      ],
      "metadata": {
        "id": "mhc1VqSgPOg_"
      },
      "execution_count": 16,
      "outputs": []
    },
    {
      "cell_type": "markdown",
      "source": [
        "`tf.data.Dataset` objects can be converted to `pandas.DataFrame` with tfds.as_dataframe to be visualized on Colab."
      ],
      "metadata": {
        "id": "__RY0n9aS1PK"
      }
    },
    {
      "cell_type": "code",
      "source": [
        "tfds.as_dataframe(mnist_train.take(4), ds_info)"
      ],
      "metadata": {
        "id": "APCeFD3YPdti",
        "colab": {
          "base_uri": "https://localhost:8080/",
          "height": 186
        },
        "outputId": "9cf14054-c0cb-4d4f-f63f-ee3f3e956a80"
      },
      "execution_count": 17,
      "outputs": [
        {
          "output_type": "execute_result",
          "data": {
            "text/plain": [
              "                                               image  label\n",
              "0  [[[0], [0], [0], [0], [0], [0], [0], [0], [0],...      4\n",
              "1  [[[0], [0], [0], [0], [0], [0], [0], [0], [0],...      1\n",
              "2  [[[0], [0], [0], [0], [0], [0], [0], [0], [0],...      0\n",
              "3  [[[0], [0], [0], [0], [0], [0], [0], [0], [0],...      7"
            ],
            "text/html": [
              "\n",
              "  <div id=\"df-20b2789f-62c4-452b-912b-bffa12c8d266\">\n",
              "    <div class=\"colab-df-container\">\n",
              "      <style type=\"text/css\">\n",
              "</style>\n",
              "<table id=\"T_589de\">\n",
              "  <thead>\n",
              "    <tr>\n",
              "      <th class=\"blank level0\" >&nbsp;</th>\n",
              "      <th id=\"T_589de_level0_col0\" class=\"col_heading level0 col0\" >image</th>\n",
              "      <th id=\"T_589de_level0_col1\" class=\"col_heading level0 col1\" >label</th>\n",
              "    </tr>\n",
              "  </thead>\n",
              "  <tbody>\n",
              "    <tr>\n",
              "      <th id=\"T_589de_level0_row0\" class=\"row_heading level0 row0\" >0</th>\n",
              "      <td id=\"T_589de_row0_col0\" class=\"data row0 col0\" ><img src=\"data:image/png;base64,iVBORw0KGgoAAAANSUhEUgAAABwAAAAcCAAAAABXZoBIAAAAzElEQVR4nGNgGPQg5F8qjMmEIRn1XwinRvnvp2QxdTIyMjAwMDDksd17jCnpeN6CgYGBQZfhAhbzLP+WMzAwyPz8IAkXQuh8ycDAwMAQyHr1ORZJYQYGBgYGKYYDDFgkAxgZGBikMxnnISQZYQz2J0KXjwvpqV00+YfpnsS/f//++/v3bxiSGAuMYfp97rN3b1cz7MDiEQgI+bcGmYsatlH/T+PUyPD2jwVOOaOP23Br3P3vZyZOO///v7qGARd4/EkBt7FvbuOWoyIAAPBxN9oBRuu9AAAAAElFTkSuQmCC\" alt=\"Img\" /></td>\n",
              "      <td id=\"T_589de_row0_col1\" class=\"data row0 col1\" >4</td>\n",
              "    </tr>\n",
              "    <tr>\n",
              "      <th id=\"T_589de_level0_row1\" class=\"row_heading level0 row1\" >1</th>\n",
              "      <td id=\"T_589de_row1_col0\" class=\"data row1 col0\" ><img src=\"data:image/png;base64,iVBORw0KGgoAAAANSUhEUgAAABwAAAAcCAAAAABXZoBIAAAAmklEQVR4nGNgGOyAc/5KJlxyjIv+/TPEJan9798HWRgH3YhQBoZHj3HpfP/vVxQuOYF//54ieGjGNjEwXMalkeHbv3+eeCTfseAy1oCVYeofXBp3/f8lgUtO/su/azhtnPLvXwJOycv//uGU0//5bx1OySP//hngkuN5+u8tG4oIkj/VJBmO/8Il6cvAMBunlSIvX3DjlKQmAACHtTHZmy2LVAAAAABJRU5ErkJggg==\" alt=\"Img\" /></td>\n",
              "      <td id=\"T_589de_row1_col1\" class=\"data row1 col1\" >1</td>\n",
              "    </tr>\n",
              "    <tr>\n",
              "      <th id=\"T_589de_level0_row2\" class=\"row_heading level0 row2\" >2</th>\n",
              "      <td id=\"T_589de_row2_col0\" class=\"data row2 col0\" ><img src=\"data:image/png;base64,iVBORw0KGgoAAAANSUhEUgAAABwAAAAcCAAAAABXZoBIAAAA+0lEQVR4nM3QvyuEARzH8feVniSFiTBcKf8A85ESNqwkdbeY5NdmY/UXiM0z+Ad0SXZ1g0vJjw0Xi86pc13eD8NleJ47q3zG76tv3x/wJxk+jQ7bf8NldT9obdNl1fWW1nGh6mtLPIm0oJVWlvuIvOvMWx1qtqWa0U2aULNNNnCtT+MQapi0waK6CoR6mcS8Wuhq4Fqj1PZjU5NQnX0DUine433dD1qZBwjOrM/EsVc9AmCj6c5MWT8XADjX2mgMi+otABN1k0/YVncAFu/VLWLbPgNBduRxLBMQHe/FZ+Zs5EtLm8kP9F81MHrZTScNelZK6sFcXzP9o3wDadaKxdoXqEQAAAAASUVORK5CYII=\" alt=\"Img\" /></td>\n",
              "      <td id=\"T_589de_row2_col1\" class=\"data row2 col1\" >0</td>\n",
              "    </tr>\n",
              "    <tr>\n",
              "      <th id=\"T_589de_level0_row3\" class=\"row_heading level0 row3\" >3</th>\n",
              "      <td id=\"T_589de_row3_col0\" class=\"data row3 col0\" ><img src=\"data:image/png;base64,iVBORw0KGgoAAAANSUhEUgAAABwAAAAcCAAAAABXZoBIAAAA40lEQVR4nGNgGJpg//8OdCEWKM2obvgv/++6/zcZnJQebPuNqkjvLxI4IIgiJ3/v79/3b//9/fvv7993f/9NQzE2TZ6hc8J3JwYGBgaGK7cYeJE12n79+1cCxlH9+/cVB5LOlxy/pryHSUYyMO78gSR5W/vzU7gxfAz/cfq36fvfDw445Fr+/P3bg12KMebb37+7WbDKKSz89/fvNRmscjpb//79u0YBq5z0yb9//2bhcEvXv78fs1ixyzX//PsuHYc+gbvwAMcEmX//3kFzJxOc9YCRoesJLp3sx9+p4JIjGQAAnrpmBs0pxioAAAAASUVORK5CYII=\" alt=\"Img\" /></td>\n",
              "      <td id=\"T_589de_row3_col1\" class=\"data row3 col1\" >7</td>\n",
              "    </tr>\n",
              "  </tbody>\n",
              "</table>\n",
              "\n",
              "      <button class=\"colab-df-convert\" onclick=\"convertToInteractive('df-20b2789f-62c4-452b-912b-bffa12c8d266')\"\n",
              "              title=\"Convert this dataframe to an interactive table.\"\n",
              "              style=\"display:none;\">\n",
              "        \n",
              "  <svg xmlns=\"http://www.w3.org/2000/svg\" height=\"24px\"viewBox=\"0 0 24 24\"\n",
              "       width=\"24px\">\n",
              "    <path d=\"M0 0h24v24H0V0z\" fill=\"none\"/>\n",
              "    <path d=\"M18.56 5.44l.94 2.06.94-2.06 2.06-.94-2.06-.94-.94-2.06-.94 2.06-2.06.94zm-11 1L8.5 8.5l.94-2.06 2.06-.94-2.06-.94L8.5 2.5l-.94 2.06-2.06.94zm10 10l.94 2.06.94-2.06 2.06-.94-2.06-.94-.94-2.06-.94 2.06-2.06.94z\"/><path d=\"M17.41 7.96l-1.37-1.37c-.4-.4-.92-.59-1.43-.59-.52 0-1.04.2-1.43.59L10.3 9.45l-7.72 7.72c-.78.78-.78 2.05 0 2.83L4 21.41c.39.39.9.59 1.41.59.51 0 1.02-.2 1.41-.59l7.78-7.78 2.81-2.81c.8-.78.8-2.07 0-2.86zM5.41 20L4 18.59l7.72-7.72 1.47 1.35L5.41 20z\"/>\n",
              "  </svg>\n",
              "      </button>\n",
              "      \n",
              "  <style>\n",
              "    .colab-df-container {\n",
              "      display:flex;\n",
              "      flex-wrap:wrap;\n",
              "      gap: 12px;\n",
              "    }\n",
              "\n",
              "    .colab-df-convert {\n",
              "      background-color: #E8F0FE;\n",
              "      border: none;\n",
              "      border-radius: 50%;\n",
              "      cursor: pointer;\n",
              "      display: none;\n",
              "      fill: #1967D2;\n",
              "      height: 32px;\n",
              "      padding: 0 0 0 0;\n",
              "      width: 32px;\n",
              "    }\n",
              "\n",
              "    .colab-df-convert:hover {\n",
              "      background-color: #E2EBFA;\n",
              "      box-shadow: 0px 1px 2px rgba(60, 64, 67, 0.3), 0px 1px 3px 1px rgba(60, 64, 67, 0.15);\n",
              "      fill: #174EA6;\n",
              "    }\n",
              "\n",
              "    [theme=dark] .colab-df-convert {\n",
              "      background-color: #3B4455;\n",
              "      fill: #D2E3FC;\n",
              "    }\n",
              "\n",
              "    [theme=dark] .colab-df-convert:hover {\n",
              "      background-color: #434B5C;\n",
              "      box-shadow: 0px 1px 3px 1px rgba(0, 0, 0, 0.15);\n",
              "      filter: drop-shadow(0px 1px 2px rgba(0, 0, 0, 0.3));\n",
              "      fill: #FFFFFF;\n",
              "    }\n",
              "  </style>\n",
              "\n",
              "      <script>\n",
              "        const buttonEl =\n",
              "          document.querySelector('#df-20b2789f-62c4-452b-912b-bffa12c8d266 button.colab-df-convert');\n",
              "        buttonEl.style.display =\n",
              "          google.colab.kernel.accessAllowed ? 'block' : 'none';\n",
              "\n",
              "        async function convertToInteractive(key) {\n",
              "          const element = document.querySelector('#df-20b2789f-62c4-452b-912b-bffa12c8d266');\n",
              "          const dataTable =\n",
              "            await google.colab.kernel.invokeFunction('convertToInteractive',\n",
              "                                                     [key], {});\n",
              "          if (!dataTable) return;\n",
              "\n",
              "          const docLinkHtml = 'Like what you see? Visit the ' +\n",
              "            '<a target=\"_blank\" href=https://colab.research.google.com/notebooks/data_table.ipynb>data table notebook</a>'\n",
              "            + ' to learn more about interactive tables.';\n",
              "          element.innerHTML = '';\n",
              "          dataTable['output_type'] = 'display_data';\n",
              "          await google.colab.output.renderOutput(dataTable, element);\n",
              "          const docLink = document.createElement('div');\n",
              "          docLink.innerHTML = docLinkHtml;\n",
              "          element.appendChild(docLink);\n",
              "        }\n",
              "      </script>\n",
              "    </div>\n",
              "  </div>\n",
              "  "
            ]
          },
          "metadata": {},
          "execution_count": 17
        }
      ]
    },
    {
      "cell_type": "markdown",
      "source": [
        "`tfds.show_examples` returns a matplotlib.figure"
      ],
      "metadata": {
        "id": "B9Hs7SQ3S4wE"
      }
    },
    {
      "cell_type": "code",
      "source": [
        "fig = tfds.show_examples(mnist_train, ds_info)"
      ],
      "metadata": {
        "id": "DDPrDsWpPhts",
        "colab": {
          "base_uri": "https://localhost:8080/",
          "height": 749
        },
        "outputId": "f187b628-3a56-4309-e909-b3c36e9f3e6d"
      },
      "execution_count": 18,
      "outputs": [
        {
          "output_type": "display_data",
          "data": {
            "text/plain": [
              "<Figure size 900x900 with 9 Axes>"
            ],
            "image/png": "[encoded data removed]"
          },
          "metadata": {}
        }
      ]
    },
    {
      "cell_type": "markdown",
      "source": [
        "## Map method"
      ],
      "metadata": {
        "id": "Y13EjJb1TE9Q"
      }
    },
    {
      "cell_type": "markdown",
      "source": [
        "When using the `Dataset.map` (and `Dataset.filter`) transformations we apply a function to each element of the `Dataset`. \n",
        "Then we batch and shuffle the `Dataset` and we levergae the call to `prefetch`.\n",
        "\n",
        "This allows later elements to be prepared while the current element is being processed. This often improves latency and throughput, at the cost of using additional memory to store prefetched elements."
      ],
      "metadata": {
        "id": "gjwO_NqpTTsR"
      }
    },
    {
      "cell_type": "code",
      "source": [
        "def process_data(image, label):\n",
        "    return tf.cast(image, tf.float32) / 255., tf.one_hot(label, 10, name='label', axis=-1)\n",
        "\n",
        "mnist_train = mnist_train.map(\n",
        "    process_data, num_parallel_calls=tf.data.AUTOTUNE)\n",
        "mnist_train = mnist_train.cache()\n",
        "mnist_train = mnist_train.shuffle(ds_info.splits['train'].num_examples)\n",
        "mnist_train = mnist_train.batch(128)\n",
        "mnist_train = mnist_train.prefetch(tf.data.AUTOTUNE)\n",
        "\n",
        "mnist_test = mnist_test.map(\n",
        "    process_data, num_parallel_calls=tf.data.AUTOTUNE)\n",
        "mnist_test = mnist_test.cache()\n",
        "mnist_test = mnist_test.batch(128)\n",
        "mnist_test = mnist_test.prefetch(tf.data.AUTOTUNE)\n",
        "\n",
        "# Apply a user define function to all the elements on the dataset, here a function is defined and we normalize our data and transform the label to be one of the encoded\n",
        "# we do shuffle and batch, then prefetch is to avoid to process and then wait the loading.\n",
        "# "
      ],
      "metadata": {
        "id": "GXAnWkl5Tevt"
      },
      "execution_count": 19,
      "outputs": []
    },
    {
      "cell_type": "markdown",
      "source": [
        "# Model building (the hard way)"
      ],
      "metadata": {
        "id": "9vrgTElmVNAI"
      }
    },
    {
      "cell_type": "markdown",
      "source": [
        "Here we build a 2-hidden layers fully connected neural network leveraging a **low-level** approach to better understand all mechanics behind building neural networks and the training process."
      ],
      "metadata": {
        "id": "3LlGQpp0VxSl"
      }
    },
    {
      "cell_type": "code",
      "source": [
        "# Network parameters.\n",
        "n_hidden_1 = 128 # 1st layer number of neurons.\n",
        "n_hidden_2 = 256 # 2nd layer number of neurons.\n",
        "\n",
        "# Training parameters.\n",
        "learning_rate = 0.1\n",
        "training_steps = 2000\n",
        "display_step = 100\n",
        "\n",
        "# the hard way requires also the loop to update the weights"
      ],
      "metadata": {
        "id": "Kq_BytSoWM94"
      },
      "execution_count": 20,
      "outputs": []
    },
    {
      "cell_type": "markdown",
      "source": [
        "## Create TF Model"
      ],
      "metadata": {
        "id": "9VxQLABeW4LL"
      }
    },
    {
      "cell_type": "code",
      "source": [
        "# create the model of the NN from keras model and set to dense (hidden) layer followed by the output ones\n",
        "# this kind of model we need to define a call method that is called when we do forward or backward pass\n",
        "# our model will take the input (both fully connected layers) and the output. This pipeline will be executed each time\n",
        "class NeuralNet(tf.keras.Model):\n",
        "    # Set layers.\n",
        "    def __init__(self):\n",
        "        super(NeuralNet, self).__init__()\n",
        "        # First fully-connected hidden layer.\n",
        "        self.fc1 = tf.keras.layers.Dense(n_hidden_1, activation=tf.nn.relu)\n",
        "        # Second fully-connected hidden layer.\n",
        "        self.fc2 = tf.keras.layers.Dense(n_hidden_2, activation=tf.nn.relu)\n",
        "        # Output layer.\n",
        "        self.out = tf.keras.layers.Dense(num_classes)\n",
        "\n",
        "    # Set forward pass.\n",
        "    def call(self, x, is_training=False):\n",
        "        x = self.fc1(x)\n",
        "        x = self.fc2(x)\n",
        "        x = self.out(x)\n",
        "        if not is_training:\n",
        "            # tf cross entropy expect logits without softmax, so only\n",
        "            # apply softmax when not training.\n",
        "            x = tf.nn.softmax(x)\n",
        "        return x\n",
        "\n",
        "# Build neural network model.\n",
        "neural_net = NeuralNet()"
      ],
      "metadata": {
        "id": "fGix-ioKVQIg"
      },
      "execution_count": 21,
      "outputs": []
    },
    {
      "cell_type": "markdown",
      "source": [
        "## Metrics definition"
      ],
      "metadata": {
        "id": "zapmvImhW9Vo"
      }
    },
    {
      "cell_type": "code",
      "source": [
        "# Note that this will apply 'softmax' to the logits.\n",
        "def cross_entropy_loss(x, y):\n",
        "    # Convert labels to int 64 for tf cross-entropy function.\n",
        "    y = tf.cast(y, tf.int64)\n",
        "    # Apply softmax to logits and compute cross-entropy.\n",
        "    loss = tf.nn.sparse_softmax_cross_entropy_with_logits(labels=y, logits=x)\n",
        "    # Average loss across the batch.\n",
        "    return tf.reduce_mean(loss)\n",
        "\n",
        "# Accuracy metric.\n",
        "def accuracy(y_pred, y_true):\n",
        "    # Predicted class is the index of highest score in prediction vector (i.e. argmax).\n",
        "    correct_prediction = tf.equal(tf.argmax(y_pred, 1), tf.cast(y_true, tf.int64))\n",
        "    return tf.reduce_mean(tf.cast(correct_prediction, tf.float32), axis=-1)\n",
        "\n",
        "# Stochastic gradient descent optimizer.\n",
        "optimizer = tf.optimizers.SGD(learning_rate)\n",
        "\n",
        "'''\n",
        "We have to define the metrics to see the performance of our model, using tensorflow. \n",
        "'''"
      ],
      "metadata": {
        "id": "7yAoErXHWeH5",
        "colab": {
          "base_uri": "https://localhost:8080/",
          "height": 35
        },
        "outputId": "342f887b-b7fb-4a2f-99b6-bbcfe09bac48"
      },
      "execution_count": 22,
      "outputs": [
        {
          "output_type": "execute_result",
          "data": {
            "text/plain": [
              "'\\nWe have to define the metrics to see the performance of our model, using tensorflow. \\n'"
            ],
            "application/vnd.google.colaboratory.intrinsic+json": {
              "type": "string"
            }
          },
          "metadata": {},
          "execution_count": 22
        }
      ]
    },
    {
      "cell_type": "markdown",
      "source": [
        "## Optimization definition"
      ],
      "metadata": {
        "id": "_E6QDah8XAcj"
      }
    },
    {
      "cell_type": "code",
      "source": [
        "def run_optimization(x, y):\n",
        "    # Wrap computation inside a GradientTape for automatic differentiation.\n",
        "    with tf.GradientTape() as g:\n",
        "        # Forward pass.\n",
        "        pred = neural_net(x, is_training=True)\n",
        "        # Compute loss.\n",
        "        loss = cross_entropy_loss(pred, y)\n",
        "        \n",
        "    # Variables to update, i.e. trainable variables.\n",
        "    trainable_variables = neural_net.trainable_variables #each variable has a SGD respect to the loss function\n",
        "\n",
        "    # Compute gradients.\n",
        "    gradients = g.gradient(loss, trainable_variables)\n",
        "    \n",
        "    # Update W and b following gradients.\n",
        "    optimizer.apply_gradients(zip(gradients, trainable_variables)) # apply the gradient\n",
        "'''\n",
        "SGD, mix of funciton defined by the user and function implemented in tensor flow. \n",
        "'''"
      ],
      "metadata": {
        "id": "0sEt_jQ7Wyg9",
        "colab": {
          "base_uri": "https://localhost:8080/",
          "height": 35
        },
        "outputId": "f059ba4f-a4b1-4eda-c760-43648871256f"
      },
      "execution_count": 24,
      "outputs": [
        {
          "output_type": "execute_result",
          "data": {
            "text/plain": [
              "'\\nSGD, mix of funciton defined by the user and function implemented in tensor flow. \\n'"
            ],
            "application/vnd.google.colaboratory.intrinsic+json": {
              "type": "string"
            }
          },
          "metadata": {},
          "execution_count": 24
        }
      ]
    },
    {
      "cell_type": "markdown",
      "source": [
        "## Run the training for the given number of steps."
      ],
      "metadata": {
        "id": "vS_269jcXD7b"
      }
    },
    {
      "cell_type": "code",
      "source": [
        "'''\n",
        "finally training over number of epoch. each time you take one element, then we run the optimizaiton and we print the accuracy. the pipeline in this way need to call the repeat method\n",
        "because we have to look to our data more than once during the set\n",
        "'''\n",
        "# Run training\n",
        "for step, (batch_x, batch_y) in enumerate(train_data.take(training_steps), 1):\n",
        "    # Run the optimization to update W and b values.\n",
        "    run_optimization(batch_x, batch_y)\n",
        "    \n",
        "    if step % display_step == 0:\n",
        "        pred = neural_net(batch_x, is_training=True)\n",
        "        loss = cross_entropy_loss(pred, batch_y)\n",
        "        acc = accuracy(pred, batch_y)\n",
        "        print(\"step: %i, loss: %f, accuracy: %f\" % (step, loss, acc))"
      ],
      "metadata": {
        "id": "alTQNlbdW1uC",
        "colab": {
          "base_uri": "https://localhost:8080/"
        },
        "outputId": "967c6c96-554a-44df-9442-32c764efd492"
      },
      "execution_count": 25,
      "outputs": [
        {
          "output_type": "stream",
          "name": "stderr",
          "text": [
            "WARNING:tensorflow:5 out of the last 5 calls to <function _BaseOptimizer._update_step_xla at 0x7ff491954310> triggered tf.function retracing. Tracing is expensive and the excessive number of tracings could be due to (1) creating @tf.function repeatedly in a loop, (2) passing tensors with different shapes, (3) passing Python objects instead of tensors. For (1), please define your @tf.function outside of the loop. For (2), @tf.function has reduce_retracing=True option that can avoid unnecessary retracing. For (3), please refer to https://www.tensorflow.org/guide/function#controlling_retracing and https://www.tensorflow.org/api_docs/python/tf/function for  more details.\n",
            "WARNING:tensorflow:6 out of the last 6 calls to <function _BaseOptimizer._update_step_xla at 0x7ff491954310> triggered tf.function retracing. Tracing is expensive and the excessive number of tracings could be due to (1) creating @tf.function repeatedly in a loop, (2) passing tensors with different shapes, (3) passing Python objects instead of tensors. For (1), please define your @tf.function outside of the loop. For (2), @tf.function has reduce_retracing=True option that can avoid unnecessary retracing. For (3), please refer to https://www.tensorflow.org/guide/function#controlling_retracing and https://www.tensorflow.org/api_docs/python/tf/function for  more details.\n"
          ]
        },
        {
          "output_type": "stream",
          "name": "stdout",
          "text": [
            "step: 100, loss: 0.449530, accuracy: 0.859375\n",
            "step: 200, loss: 0.283104, accuracy: 0.890625\n",
            "step: 300, loss: 0.323976, accuracy: 0.906250\n",
            "step: 400, loss: 0.189519, accuracy: 0.937500\n",
            "step: 500, loss: 0.217351, accuracy: 0.937500\n",
            "step: 600, loss: 0.208140, accuracy: 0.929688\n",
            "step: 700, loss: 0.135547, accuracy: 0.960938\n",
            "step: 800, loss: 0.173364, accuracy: 0.953125\n",
            "step: 900, loss: 0.074025, accuracy: 0.984375\n",
            "step: 1000, loss: 0.128382, accuracy: 0.945312\n",
            "step: 1100, loss: 0.091689, accuracy: 0.968750\n",
            "step: 1200, loss: 0.104672, accuracy: 0.976562\n",
            "step: 1300, loss: 0.120082, accuracy: 0.976562\n",
            "step: 1400, loss: 0.057302, accuracy: 0.992188\n",
            "step: 1500, loss: 0.060812, accuracy: 0.984375\n",
            "step: 1600, loss: 0.083507, accuracy: 0.984375\n",
            "step: 1700, loss: 0.104437, accuracy: 0.976562\n",
            "step: 1800, loss: 0.139262, accuracy: 0.960938\n",
            "step: 1900, loss: 0.070206, accuracy: 0.984375\n",
            "step: 2000, loss: 0.034167, accuracy: 1.000000\n"
          ]
        }
      ]
    },
    {
      "cell_type": "markdown",
      "source": [
        "## Test and plot some predictions"
      ],
      "metadata": {
        "id": "ZnPA1tMHZZDd"
      }
    },
    {
      "cell_type": "code",
      "source": [
        "# Test model on validation set.\n",
        "pred = neural_net(x_test, is_training=False)\n",
        "print(\"Test Accuracy: %f\" % accuracy(pred, y_test))"
      ],
      "metadata": {
        "id": "fRB0d2k2Zddw",
        "colab": {
          "base_uri": "https://localhost:8080/"
        },
        "outputId": "38de98f3-e2da-4e9a-f6d5-1b1d84a1c641"
      },
      "execution_count": 26,
      "outputs": [
        {
          "output_type": "stream",
          "name": "stdout",
          "text": [
            "Test Accuracy: 0.963600\n"
          ]
        }
      ]
    },
    {
      "cell_type": "code",
      "source": [
        "# Predict 5 images from validation set.\n",
        "n_images = 5\n",
        "test_images = x_test[:n_images]\n",
        "predictions = neural_net(test_images)\n",
        "\n",
        "# Display image and model prediction.\n",
        "for i in range(n_images):\n",
        "    plt.imshow(np.reshape(test_images[i], [28, 28]), cmap='gray')\n",
        "    plt.show()\n",
        "    print(\"Model prediction: %i\" % np.argmax(predictions.numpy()[i]))"
      ],
      "metadata": {
        "id": "G2hLSgcfZwjJ",
        "colab": {
          "base_uri": "https://localhost:8080/",
          "height": 1000
        },
        "outputId": "e7f3bbd8-b1f6-4ac9-f185-2cf1182ef823"
      },
      "execution_count": 27,
      "outputs": [
        {
          "output_type": "display_data",
          "data": {
            "text/plain": [
              "<Figure size 640x480 with 1 Axes>"
            ],
            "image/png": "[encoded data removed]"
          },
          "metadata": {}
        },
        {
          "output_type": "stream",
          "name": "stdout",
          "text": [
            "Model prediction: 7\n"
          ]
        },
        {
          "output_type": "display_data",
          "data": {
            "text/plain": [
              "<Figure size 640x480 with 1 Axes>"
            ],
            "image/png": "[encoded data removed]"
          },
          "metadata": {}
        },
        {
          "output_type": "stream",
          "name": "stdout",
          "text": [
            "Model prediction: 2\n"
          ]
        },
        {
          "output_type": "display_data",
          "data": {
            "text/plain": [
              "<Figure size 640x480 with 1 Axes>"
            ],
            "image/png": "[encoded data removed]"
          },
          "metadata": {}
        },
        {
          "output_type": "stream",
          "name": "stdout",
          "text": [
            "Model prediction: 1\n"
          ]
        },
        {
          "output_type": "display_data",
          "data": {
            "text/plain": [
              "<Figure size 640x480 with 1 Axes>"
            ],
            "image/png": "[encoded data removed]"
          },
          "metadata": {}
        },
        {
          "output_type": "stream",
          "name": "stdout",
          "text": [
            "Model prediction: 0\n"
          ]
        },
        {
          "output_type": "display_data",
          "data": {
            "text/plain": [
              "<Figure size 640x480 with 1 Axes>"
            ],
            "image/png": "[encoded data removed]"
          },
          "metadata": {}
        },
        {
          "output_type": "stream",
          "name": "stdout",
          "text": [
            "Model prediction: 4\n"
          ]
        }
      ]
    },
    {
      "cell_type": "markdown",
      "source": [
        "# Model building (the easy way)"
      ],
      "metadata": {
        "id": "L0sjGP1cZmnj"
      }
    },
    {
      "cell_type": "markdown",
      "source": [
        "##  [Sequential model](https://keras.io/api/models/sequential/)"
      ],
      "metadata": {
        "id": "nMuZYlZeaSba"
      }
    },
    {
      "cell_type": "markdown",
      "source": [
        "Note that, since we will now leverage a ready-to-use loss in tf (namely, tf.keras.losses.CategoricalCrossentropy()) we need to encode in one-hot the labels."
      ],
      "metadata": {
        "id": "MKXhJl7wbvyW"
      }
    },
    {
      "cell_type": "markdown",
      "source": [
        " Much convenient but less flexible. "
      ],
      "metadata": {
        "id": "_RxMaPVSZqdL"
      }
    },
    {
      "cell_type": "code",
      "source": [
        "train_data = tf.data.Dataset.from_tensor_slices((x_train, y_train))\n",
        "train_data = train_data.shuffle(5000).batch(batch_size).prefetch(1)"
      ],
      "metadata": {
        "id": "byyv3EBGc7ed"
      },
      "execution_count": 28,
      "outputs": []
    },
    {
      "cell_type": "code",
      "source": [
        "test_data = tf.data.Dataset.from_tensor_slices((x_test, y_test))\n",
        "test_data = test_data.batch(batch_size).prefetch(1)\n",
        "\n",
        "'''\n",
        "same operation for test and training, but we dont shuffle the test\n",
        "'''"
      ],
      "metadata": {
        "id": "uUzVIdsbhQgU"
      },
      "execution_count": 29,
      "outputs": []
    },
    {
      "cell_type": "code",
      "source": [
        "def process_data(image, label):\n",
        "    return image, tf.one_hot(label, 10, name='label', axis=-1)\n",
        "'''\n",
        "function over our image and labels. we performed the normalization of the numpy array before so no reason to do again, we transform the image in one_hot encoding.\n",
        "'''"
      ],
      "metadata": {
        "id": "z0qO8KuZeC7e",
        "colab": {
          "base_uri": "https://localhost:8080/",
          "height": 35
        },
        "outputId": "c4f3fdc2-5b86-428f-e64b-35b0a5951fd0"
      },
      "execution_count": 31,
      "outputs": [
        {
          "output_type": "execute_result",
          "data": {
            "text/plain": [
              "'\\nfunction over our image and labels. we performed the normalization of the numpy array before so no reason to do again, we transform the image in one_hot encoding.\\n'"
            ],
            "application/vnd.google.colaboratory.intrinsic+json": {
              "type": "string"
            }
          },
          "metadata": {},
          "execution_count": 31
        }
      ]
    },
    {
      "cell_type": "code",
      "source": [
        "train_data = train_data.map(\n",
        "    process_data, num_parallel_calls=tf.data.AUTOTUNE)\n",
        "test_data = test_data.map(\n",
        "    process_data, num_parallel_calls=tf.data.AUTOTUNE)"
      ],
      "metadata": {
        "id": "IzCoavFeeGex"
      },
      "execution_count": 32,
      "outputs": []
    },
    {
      "cell_type": "code",
      "source": [
        "model = tf.keras.models.Sequential()\n",
        "# always use keras api to define the layers\n",
        "model.add(tf.keras.layers.Dense(n_hidden_1, activation='relu'))\n",
        "model.add(tf.keras.layers.Dense(n_hidden_2, activation='relu'))\n",
        "model.add(tf.keras.layers.Dense(num_classes, activation='softmax'))\n",
        "\n",
        "## defining the optimiser and loss function\n",
        "model.compile(optimizer=tf.optimizers.SGD(learning_rate),\n",
        "              metrics=\"accuracy\",\n",
        "              loss=tf.keras.losses.CategoricalCrossentropy())\n",
        "\n",
        "## training the model\n",
        "model.fit(train_data,\n",
        "          batch_size=128, #might be removed\n",
        "          epochs=10)"
      ],
      "metadata": {
        "id": "mUb7rIqHaUhz",
        "colab": {
          "base_uri": "https://localhost:8080/"
        },
        "outputId": "defdee13-3b4b-4bd2-d5e5-657a6f6b4ff9"
      },
      "execution_count": 33,
      "outputs": [
        {
          "output_type": "stream",
          "name": "stdout",
          "text": [
            "Epoch 1/10\n",
            "469/469 [==============================] - 2s 3ms/step - loss: 0.4476 - accuracy: 0.8749\n",
            "Epoch 2/10\n",
            "469/469 [==============================] - 2s 5ms/step - loss: 0.2131 - accuracy: 0.9388\n",
            "Epoch 3/10\n",
            "469/469 [==============================] - 2s 3ms/step - loss: 0.1603 - accuracy: 0.9541\n",
            "Epoch 4/10\n",
            "469/469 [==============================] - 2s 3ms/step - loss: 0.1294 - accuracy: 0.9624\n",
            "Epoch 5/10\n",
            "469/469 [==============================] - 2s 3ms/step - loss: 0.1086 - accuracy: 0.9682\n",
            "Epoch 6/10\n",
            "469/469 [==============================] - 2s 3ms/step - loss: 0.0927 - accuracy: 0.9727\n",
            "Epoch 7/10\n",
            "469/469 [==============================] - 2s 3ms/step - loss: 0.0810 - accuracy: 0.9762\n",
            "Epoch 8/10\n",
            "469/469 [==============================] - 2s 4ms/step - loss: 0.0711 - accuracy: 0.9789\n",
            "Epoch 9/10\n",
            "469/469 [==============================] - 2s 5ms/step - loss: 0.0635 - accuracy: 0.9814\n",
            "Epoch 10/10\n",
            "469/469 [==============================] - 2s 3ms/step - loss: 0.0569 - accuracy: 0.9836\n"
          ]
        },
        {
          "output_type": "execute_result",
          "data": {
            "text/plain": [
              "<keras.callbacks.History at 0x7ff41429cbb0>"
            ]
          },
          "metadata": {},
          "execution_count": 33
        }
      ]
    },
    {
      "cell_type": "code",
      "source": [
        "print(f\"Accuracy: {model.evaluate(test_data)[1]:.2f}\")"
      ],
      "metadata": {
        "id": "pO-nw2BJhAQk",
        "colab": {
          "base_uri": "https://localhost:8080/"
        },
        "outputId": "c64f1c03-6f2e-4fe4-fefa-3dab8bca3896"
      },
      "execution_count": 34,
      "outputs": [
        {
          "output_type": "stream",
          "name": "stdout",
          "text": [
            "79/79 [==============================] - 0s 3ms/step - loss: 0.0894 - accuracy: 0.9722\n",
            "Accuracy: 0.97\n"
          ]
        }
      ]
    },
    {
      "cell_type": "markdown",
      "source": [
        "##[Model API (ex functional)](https://keras.io/api/models/model/#model-class)"
      ],
      "metadata": {
        "id": "DSrpjBM9h7np"
      }
    },
    {
      "cell_type": "code",
      "source": [
        "input_layer = tf.keras.layers.Input(shape=(num_features))\n",
        "layer_1 = tf.keras.layers.Dense(n_hidden_1, activation=\"relu\")(input_layer)\n",
        "layer_2 = tf.keras.layers.Dense(n_hidden_2, activation=\"relu\")(layer_1)\n",
        "output_layer= tf.keras.layers.Dense(num_classes, activation=\"softmax\")(layer_2)\n",
        "\n",
        "## Defining the model by specifying the input and output layers\n",
        "model = tf.keras.models.Model(inputs=input_layer, outputs=output_layer)\n",
        "\n",
        "## defining the optimiser and loss function\n",
        "model.compile(optimizer=tf.optimizers.SGD(learning_rate),\n",
        "              metrics=\"accuracy\",\n",
        "              loss=tf.keras.losses.CategoricalCrossentropy())\n",
        "\n",
        "## training the model\n",
        "history = model.fit(train_data,\n",
        "                    batch_size=128,\n",
        "                    epochs=10)\n",
        "# in this way we define the network and the layers, and setup the model with this syntax (Model) that allows you to do a stack of layers"
      ],
      "metadata": {
        "id": "JuZnbNGQieZM",
        "colab": {
          "base_uri": "https://localhost:8080/"
        },
        "outputId": "db6bc497-4c91-4946-f9c9-44f1fb0f3b2c"
      },
      "execution_count": 35,
      "outputs": [
        {
          "output_type": "stream",
          "name": "stdout",
          "text": [
            "Epoch 1/10\n",
            "469/469 [==============================] - 3s 4ms/step - loss: 0.4532 - accuracy: 0.8748\n",
            "Epoch 2/10\n",
            "469/469 [==============================] - 2s 3ms/step - loss: 0.2172 - accuracy: 0.9380\n",
            "Epoch 3/10\n",
            "469/469 [==============================] - 2s 4ms/step - loss: 0.1633 - accuracy: 0.9519\n",
            "Epoch 4/10\n",
            "469/469 [==============================] - 2s 5ms/step - loss: 0.1317 - accuracy: 0.9624\n",
            "Epoch 5/10\n",
            "469/469 [==============================] - 2s 4ms/step - loss: 0.1104 - accuracy: 0.9682\n",
            "Epoch 6/10\n",
            "469/469 [==============================] - 2s 5ms/step - loss: 0.0949 - accuracy: 0.9725\n",
            "Epoch 7/10\n",
            "469/469 [==============================] - 2s 4ms/step - loss: 0.0835 - accuracy: 0.9759\n",
            "Epoch 8/10\n",
            "469/469 [==============================] - 3s 5ms/step - loss: 0.0734 - accuracy: 0.9787\n",
            "Epoch 9/10\n",
            "469/469 [==============================] - 2s 4ms/step - loss: 0.0657 - accuracy: 0.9808\n",
            "Epoch 10/10\n",
            "469/469 [==============================] - 2s 5ms/step - loss: 0.0587 - accuracy: 0.9828\n"
          ]
        }
      ]
    },
    {
      "cell_type": "code",
      "source": [
        "print(f\"Accuracy: {model.evaluate(test_data)[1]:.2f}\")"
      ],
      "metadata": {
        "id": "wXdeQO10jL8d",
        "colab": {
          "base_uri": "https://localhost:8080/"
        },
        "outputId": "edc98ffc-0f42-4c46-a8eb-aa5edb88ec4d"
      },
      "execution_count": 36,
      "outputs": [
        {
          "output_type": "stream",
          "name": "stdout",
          "text": [
            "79/79 [==============================] - 0s 3ms/step - loss: 0.0829 - accuracy: 0.9740\n",
            "Accuracy: 0.97\n"
          ]
        }
      ]
    },
    {
      "cell_type": "markdown",
      "source": [
        "# Assignment #1: making new Layers and Models via subclassing\n",
        "You will build a ResNet18 architecture leveraging tf.keras.Model subclassing\n",
        "\n"
      ],
      "metadata": {
        "id": "iGXyTid4j7Lg"
      }
    },
    {
      "cell_type": "markdown",
      "source": [
        "![resnet.png](data:image/png;base64,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)"
      ],
      "metadata": {
        "id": "CLT4i7lEkeTH"
      }
    },
    {
      "cell_type": "markdown",
      "source": [
        "Notes:\n",
        "*   **Batch normalization** is implemented right after each convolution and before activation\n",
        "*   If the **input dimension has the same dimension as the output** the block implements an identity function \n",
        "*   **Otherwise** in the skip connection we insert a 1x1 convolutional block"
      ],
      "metadata": {
        "id": "6xRXKJcykJqd"
      }
    },
    {
      "cell_type": "code",
      "source": [
        "class Residual(tf.keras.Model):\n",
        "    \"\"\"The Residual block of ResNet.\"\"\"\n",
        "    def __init__(self, num_channels, use_1x1conv=False, strides=1):\n",
        "        super().__init__()\n",
        "        self.conv1 = tf.keras.layers.Conv2D(\n",
        "            num_channels, \n",
        "            padding='same', \n",
        "            kernel_size=3, \n",
        "            strides=strides)\n",
        "        self.conv2 = tf.keras.layers.Conv2D(\n",
        "            num_channels, \n",
        "            kernel_size=3, \n",
        "            padding='same')\n",
        "        self.conv_1x1 = None\n",
        "        if use_1x1conv:\n",
        "            self.conv_1x1 = tf.keras.layers.Conv2D(\n",
        "                num_channels, \n",
        "                kernel_size=1, \n",
        "                strides=strides)\n",
        "        self.bn1 = tf.keras.layers.BatchNormalization()\n",
        "        self.bn2 = tf.keras.layers.BatchNormalization()\n",
        "\n",
        "    def call(self, X):\n",
        "        Y = tf.keras.activations.relu(self.bn1(self.conv1(X)))\n",
        "        Y = self.bn2(self.conv2(Y))\n",
        "        if self.conv_1x1 is not None:\n",
        "            X=self.conv_1x1(X) # 1x1 convolution\n",
        "        Y+=X # identity function\n",
        "        return tf.keras.activations.relu(Y)"
      ],
      "metadata": {
        "id": "FlV2frBSkL8k"
      },
      "execution_count": 37,
      "outputs": []
    },
    {
      "cell_type": "code",
      "source": [
        "class ResnetBlock(tf.keras.layers.Layer):\n",
        "    def __init__(self, num_channels, num_residuals, downscale=True,\n",
        "                 **kwargs):\n",
        "        super(ResnetBlock, self).__init__(**kwargs)\n",
        "        self.residual_layers = []\n",
        "        for i in range(num_residuals):\n",
        "            if i == 0 and downscale:\n",
        "                self.residual_layers.append(\n",
        "                    Residual(num_channels, use_1x1conv=True, strides=2))\n",
        "            else:\n",
        "                self.residual_layers.append(Residual(num_channels))\n",
        "\n",
        "    def call(self, X):\n",
        "        for layer in self.residual_layers.layers:\n",
        "            X = layer(X)\n",
        "        return X"
      ],
      "metadata": {
        "id": "DoRHBm8PkNWO"
      },
      "execution_count": 38,
      "outputs": []
    },
    {
      "cell_type": "markdown",
      "source": [
        "![resnet1.png](data:image/png;base64,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)"
      ],
      "metadata": {
        "id": "lkIz4lbckauw"
      }
    },
    {
      "cell_type": "markdown",
      "source": [
        "## ResNet18"
      ],
      "metadata": {
        "id": "VKDR4frxkTxW"
      }
    },
    {
      "cell_type": "code",
      "source": [
        "class ResNet(tf.keras.Model):\n",
        "\n",
        "    def __init__(self, num_classes=10):\n",
        "        super(ResNet, self).__init__()\n",
        "        self.block_a = tf.keras.Sequential(\n",
        "            [tf.keras.layers.Conv2D(64, \n",
        "                                    kernel_size=7, \n",
        "                                    strides=2, \n",
        "                                    padding='same'),\n",
        "             tf.keras.layers.BatchNormalization(),\n",
        "             tf.keras.layers.MaxPool2D(pool_size=3, \n",
        "                                       strides=2, \n",
        "                                       padding='same')])             \n",
        "        self.block_b = ResnetBlock(64, 2, downscale=False)\n",
        "        self.block_c = ResnetBlock(128, 2)\n",
        "        self.block_d = ResnetBlock(256, 2)\n",
        "        self.block_e = ResnetBlock(512, 2)\n",
        "        self.global_pool = tf.keras.layers.GlobalAveragePooling2D()\n",
        "        self.classifier = tf.keras.layers.Dense(num_classes, activation=\"softmax\")\n",
        "\n",
        "    def call(self, inputs):\n",
        "        x = self.block_a(inputs)\n",
        "        x = self.block_b(x)\n",
        "        x = self.block_c(x)\n",
        "        x = self.block_d(x)\n",
        "        x = self.block_e(x)\n",
        "        x = self.global_pool(x)\n",
        "        return self.classifier(x)"
      ],
      "metadata": {
        "id": "6tLGNPy3kQlL"
      },
      "execution_count": 39,
      "outputs": []
    },
    {
      "cell_type": "markdown",
      "source": [
        "# Assignment #2: the CIFAR-10\n",
        "1. Load the CIFAR-10 from TFDS (see [here](https://www.tensorflow.org/datasets/catalog/cifar10))\n",
        "2. Train and test your ResNet18 on such dataset\n"
      ],
      "metadata": {
        "id": "xOqWcpINkm1N"
      }
    },
    {
      "cell_type": "code",
      "source": [
        "(cifar10_train, cifar10_test), ds_info = tfds.load(\n",
        "    'cifar10',\n",
        "    split=['train', 'test'],\n",
        "    shuffle_files=True,\n",
        "    as_supervised=True,\n",
        "    with_info=True,\n",
        ")"
      ],
      "metadata": {
        "id": "KpOn9FbglLaS",
        "colab": {
          "base_uri": "https://localhost:8080/",
          "height": 148,
          "referenced_widgets": [
            "e157d893a32c418c82849a8bb0dffbf8",
            "1775697a18e4467081d8b1d25bea596d",
            "eaf5c35dc4b241059975e4bf74c8f0d6",
            "8934c07b3a0d4e5e82c556a9b5221f49",
            "58b04cb0587245de89e9b0beee1834ba",
            "0fb4ad0b2ce444a9997ad7602b6c6ec6",
            "c9916abe6e664bc497c8668bc0ab1018",
            "b31d6cf1db35481a8d6629d5eba3e304",
            "53640dd2b4784454919813e58de9e1d4",
            "26eda96a924443d79016b02c6c4bbe3e",
            "3aecd3f4d9aa4b1fae8e15d3332b7608",
            "b5bb657dde0f4fd485913018702bbadc",
            "e1bfe6baf03b4bec941358a80bbca434",
            "d7d4f670c8da4d3fa1dd0551da2ce9c4",
            "172691d7bd98462aa1793de6e7a78934",
            "f8f1da366e674671b9a5e7bbd2f1f963",
            "fd47d4a2c196462fa0e502bc0a4abfcc",
            "b33645f843a44edb88edb084d41fa828",
            "75191ae2fd6a41da8b9fd910d611599f",
            "77747450c4cc4891af85c6ab1cdac31e",
            "cf96bf9818f2433da01317a88101c06e",
            "252a213bd9234da28e1bb066751ab8e4",
            "48f3007650634ad38777d70d80921daa",
            "d5bbafc9c8754b509d1de816cd92fa31",
            "0b561ec52e8345d493d5e0738110ef39",
            "eb6fdf2ef7174525befe5bd9027394ca",
            "6b671b4800604c959d25440a5a09f8be",
            "312594a5827f4ae7ad83331e6d06ecb3",
            "53adaeb7b640403d91c42bda901aa411",
            "0445edb21f1a4f44b4febff1049024ff",
            "47fc63de37ea4240b4a9450ac482d549",
            "735f5d43c1c44e82a0760194be74240c",
            "08430f549dbe4568b501a36110b74060",
            "cd88b0421e994a93b2aee648ffdc29a4",
            "d5942a851066469c877339d1c518f0be",
            "045b03a9f94a4aeab3079d2111b2ba04",
            "8d36f647cacf4645b770136bb154c009",
            "95cb8a86f2714aad9181aa81bf0b0122",
            "c575c77c1419446ab65153b593504fe1",
            "28fc2998a3484fdea93f55294d633710",
            "bc65719b79844746a0f1b3afc2ba00ce",
            "e5c422b985af43269ee17a1d54282e47",
            "21c34a774cee491da4237133f5ceeba0",
            "bf0dd19646304e59acc6715b927c8d6a",
            "a3bfbb5ffc25429ebd97a032e6989536",
            "1ad888dcec9d48229a37b776ecfde0d4",
            "0491f0b9431343e9ac9f505ded64d3c1",
            "40dfdd2cbf494588aa0279eeaa8529ee",
            "52c8749278064ae69387fa7b0c914bfc",
            "90fec76479174c6c941ffc2e1fcd8b2a",
            "1428de8a837643369697d18ad56fd98e",
            "0bfba263f1774d1ab9f1a51298f8710e",
            "fad00696246646b6841327537a9b5529",
            "f762c76b83d0461aaa36bc27049dae77",
            "924ab177f308409fa05e5bfd6430f0bb",
            "6b86c839ab154b9a9d336b1931d72d55",
            "538b59f02c9d497895be1ffeb30c3dc7",
            "16f237488f354044bd960937bbb905aa",
            "4573a3801b3246c088e0b8e71a8aeaef",
            "f21039e507d44135a1f931efb6f11b32",
            "23d865bef12848f1a421a7702c990180",
            "f96a08194d71434b849ec2fd89f30f45",
            "1c50060e362a468db37d8a3627380712",
            "b47bd5e84c1f4b44991c9a51ad5bac59",
            "412dcf51751f44a384930008d5b0efa3",
            "798f55a0f2104cf9bbf0bc51ed152e61",
            "893d00cbcbf94b329a113571368c38ca",
            "ad567fbb8529462fbb63e42e703efc70",
            "6c1a1b5c47e244ed86f2a2c57d0da0e5",
            "9c676ccda2fa4764a00c709198de75ff",
            "8f85707f887d4188a12bf1e34288d72a",
            "fa7ce02864904ffa91449500210db303",
            "16ad2ebc6beb4340b5ab233f505310d4",
            "99c3cf6ce3db41c8b3e104c4c033b9ab",
            "536c40531881453ab08b77209e35b4de",
            "d30f450472144b2ba5a542105a3aaa04",
            "e3f131683cbe402983df5cd39e95ef57",
            "c3e28f141e1340319f791a49755dd3cf",
            "64d20778b5904285bc5a36bda6e27ba7",
            "bd9dae61ae554e86bcfe8dcaa9f9a733",
            "7ded27ef837646d794b4d08f1538ef97",
            "6c79a150770f4bfbb81a8edac0c0069b",
            "fe4ccbdbeb7343a7b0fc13abd3aad58e",
            "6b357cbde9484f85a77c325df46e01bf",
            "783da9f0d03b47f494cc0fd97ad53b33",
            "4fc040797ce14c52b9ef5049f15412dd",
            "cce4c1c69d0e4fd78a8d48a0795f6986",
            "a010436b3444455c80cc9f9d12a050da"
          ]
        },
        "outputId": "431aeee2-e761-426a-e452-7f5622fe4e62"
      },
      "execution_count": 40,
      "outputs": [
        {
          "output_type": "stream",
          "name": "stdout",
          "text": [
            "Downloading and preparing dataset Unknown size (download: Unknown size, generated: Unknown size, total: Unknown size) to /root/tensorflow_datasets/cifar10/3.0.2...\n"
          ]
        },
        {
          "output_type": "display_data",
          "data": {
            "text/plain": [
              "Dl Completed...: 0 url [00:00, ? url/s]"
            ],
            "application/vnd.jupyter.widget-view+json": {
              "version_major": 2,
              "version_minor": 0,
              "model_id": "e157d893a32c418c82849a8bb0dffbf8"
            }
          },
          "metadata": {}
        },
        {
          "output_type": "display_data",
          "data": {
            "text/plain": [
              "Dl Size...: 0 MiB [00:00, ? MiB/s]"
            ],
            "application/vnd.jupyter.widget-view+json": {
              "version_major": 2,
              "version_minor": 0,
              "model_id": "b5bb657dde0f4fd485913018702bbadc"
            }
          },
          "metadata": {}
        },
        {
          "output_type": "display_data",
          "data": {
            "text/plain": [
              "Extraction completed...: 0 file [00:00, ? file/s]"
            ],
            "application/vnd.jupyter.widget-view+json": {
              "version_major": 2,
              "version_minor": 0,
              "model_id": "48f3007650634ad38777d70d80921daa"
            }
          },
          "metadata": {}
        },
        {
          "output_type": "display_data",
          "data": {
            "text/plain": [
              "Generating splits...:   0%|          | 0/2 [00:00<?, ? splits/s]"
            ],
            "application/vnd.jupyter.widget-view+json": {
              "version_major": 2,
              "version_minor": 0,
              "model_id": "cd88b0421e994a93b2aee648ffdc29a4"
            }
          },
          "metadata": {}
        },
        {
          "output_type": "display_data",
          "data": {
            "text/plain": [
              "Generating train examples...: 0 examples [00:00, ? examples/s]"
            ],
            "application/vnd.jupyter.widget-view+json": {
              "version_major": 2,
              "version_minor": 0,
              "model_id": "a3bfbb5ffc25429ebd97a032e6989536"
            }
          },
          "metadata": {}
        },
        {
          "output_type": "display_data",
          "data": {
            "text/plain": [
              "Shuffling /root/tensorflow_datasets/cifar10/3.0.2.incompleteWXVMYO/cifar10-train.tfrecord*...:   0%|          …"
            ],
            "application/vnd.jupyter.widget-view+json": {
              "version_major": 2,
              "version_minor": 0,
              "model_id": "6b86c839ab154b9a9d336b1931d72d55"
            }
          },
          "metadata": {}
        },
        {
          "output_type": "display_data",
          "data": {
            "text/plain": [
              "Generating test examples...: 0 examples [00:00, ? examples/s]"
            ],
            "application/vnd.jupyter.widget-view+json": {
              "version_major": 2,
              "version_minor": 0,
              "model_id": "893d00cbcbf94b329a113571368c38ca"
            }
          },
          "metadata": {}
        },
        {
          "output_type": "display_data",
          "data": {
            "text/plain": [
              "Shuffling /root/tensorflow_datasets/cifar10/3.0.2.incompleteWXVMYO/cifar10-test.tfrecord*...:   0%|          |…"
            ],
            "application/vnd.jupyter.widget-view+json": {
              "version_major": 2,
              "version_minor": 0,
              "model_id": "c3e28f141e1340319f791a49755dd3cf"
            }
          },
          "metadata": {}
        },
        {
          "output_type": "stream",
          "name": "stdout",
          "text": [
            "Dataset cifar10 downloaded and prepared to /root/tensorflow_datasets/cifar10/3.0.2. Subsequent calls will reuse this data.\n"
          ]
        }
      ]
    },
    {
      "cell_type": "code",
      "source": [
        "def process_data(image, label):\n",
        "    return tf.cast(image, tf.float32) / 255., tf.one_hot(label, 10, name='label', axis=-1)\n",
        "\n",
        "cifar10_train = cifar10_train.map(\n",
        "    process_data, num_parallel_calls=tf.data.AUTOTUNE)\n",
        "cifar10_train = cifar10_train.cache()\n",
        "cifar10_train = cifar10_train.shuffle(ds_info.splits['train'].num_examples)\n",
        "cifar10_train = cifar10_train.batch(128)\n",
        "cifar10_train = cifar10_train.prefetch(tf.data.AUTOTUNE)\n",
        "\n",
        "cifar10_test = cifar10_test.map(\n",
        "    process_data, num_parallel_calls=tf.data.AUTOTUNE)\n",
        "cifar10_test = cifar10_test.cache()\n",
        "cifar10_test = cifar10_test.batch(128)\n",
        "cifar10_test = cifar10_test.prefetch(tf.data.AUTOTUNE)"
      ],
      "metadata": {
        "id": "pEDGqKCkl0Bd"
      },
      "execution_count": 41,
      "outputs": []
    },
    {
      "cell_type": "code",
      "source": [
        "IMAGE_SIZE = 32\n",
        "net = ResNet()\n",
        "net.build((1, IMAGE_SIZE, IMAGE_SIZE, 3))\n",
        "net.summary()\n",
        "optimizer = tf.keras.optimizers.SGD(learning_rate=0.01)\n",
        "net.compile(optimizer=optimizer, loss=\"categorical_crossentropy\", metrics=\"accuracy\")\n",
        "net.fit(cifar10_train, epochs=15)"
      ],
      "metadata": {
        "id": "yD_3GwDpmFaw",
        "colab": {
          "base_uri": "https://localhost:8080/"
        },
        "outputId": "c3e40c85-0e44-4308-edd7-0b2d5d229705"
      },
      "execution_count": 42,
      "outputs": [
        {
          "output_type": "stream",
          "name": "stdout",
          "text": [
            "Model: \"res_net\"\n",
            "_________________________________________________________________\n",
            " Layer (type)                Output Shape              Param #   \n",
            "=================================================================\n",
            " sequential_1 (Sequential)   (1, 8, 8, 64)             9728      \n",
            "                                                                 \n",
            " resnet_block (ResnetBlock)  multiple                  148736    \n",
            "                                                                 \n",
            " resnet_block_1 (ResnetBlock  multiple                 526976    \n",
            " )                                                               \n",
            "                                                                 \n",
            " resnet_block_2 (ResnetBlock  multiple                 2102528   \n",
            " )                                                               \n",
            "                                                                 \n",
            " resnet_block_3 (ResnetBlock  multiple                 8399360   \n",
            " )                                                               \n",
            "                                                                 \n",
            " global_average_pooling2d (G  multiple                 0         \n",
            " lobalAveragePooling2D)                                          \n",
            "                                                                 \n",
            " dense_9 (Dense)             multiple                  5130      \n",
            "                                                                 \n",
            "=================================================================\n",
            "Total params: 11,192,458\n",
            "Trainable params: 11,184,650\n",
            "Non-trainable params: 7,808\n",
            "_________________________________________________________________\n",
            "Epoch 1/15\n",
            "391/391 [==============================] - 31s 28ms/step - loss: 1.6011 - accuracy: 0.4374\n",
            "Epoch 2/15\n",
            "391/391 [==============================] - 11s 28ms/step - loss: 1.1828 - accuracy: 0.5772\n",
            "Epoch 3/15\n",
            "391/391 [==============================] - 10s 26ms/step - loss: 0.9870 - accuracy: 0.6473\n",
            "Epoch 4/15\n",
            "391/391 [==============================] - 10s 26ms/step - loss: 0.8407 - accuracy: 0.7024\n",
            "Epoch 5/15\n",
            "391/391 [==============================] - 10s 26ms/step - loss: 0.7079 - accuracy: 0.7495\n",
            "Epoch 6/15\n",
            "391/391 [==============================] - 10s 26ms/step - loss: 0.5822 - accuracy: 0.7946\n",
            "Epoch 7/15\n",
            "391/391 [==============================] - 10s 26ms/step - loss: 0.4751 - accuracy: 0.8330\n",
            "Epoch 8/15\n",
            "391/391 [==============================] - 11s 29ms/step - loss: 0.3696 - accuracy: 0.8702\n",
            "Epoch 9/15\n",
            "391/391 [==============================] - 10s 25ms/step - loss: 0.2879 - accuracy: 0.9010\n",
            "Epoch 10/15\n",
            "391/391 [==============================] - 10s 26ms/step - loss: 0.2185 - accuracy: 0.9255\n",
            "Epoch 11/15\n",
            "391/391 [==============================] - 10s 25ms/step - loss: 0.1714 - accuracy: 0.9420\n",
            "Epoch 12/15\n",
            "391/391 [==============================] - 10s 26ms/step - loss: 0.1372 - accuracy: 0.9535\n",
            "Epoch 13/15\n",
            "391/391 [==============================] - 10s 25ms/step - loss: 0.1048 - accuracy: 0.9654\n",
            "Epoch 14/15\n",
            "391/391 [==============================] - 10s 25ms/step - loss: 0.0857 - accuracy: 0.9714\n",
            "Epoch 15/15\n",
            "391/391 [==============================] - 10s 26ms/step - loss: 0.0687 - accuracy: 0.9783\n"
          ]
        },
        {
          "output_type": "execute_result",
          "data": {
            "text/plain": [
              "<keras.callbacks.History at 0x7ff49a639cd0>"
            ]
          },
          "metadata": {},
          "execution_count": 42
        }
      ]
    },
    {
      "cell_type": "code",
      "source": [
        "print(\"Accuracy on test set: {:.2f}\".format(net.evaluate(cifar10_test)[1]))"
      ],
      "metadata": {
        "id": "mijjqHQknjTl",
        "colab": {
          "base_uri": "https://localhost:8080/"
        },
        "outputId": "8fd3496d-6b9b-4f6c-8094-88a98cf0b114"
      },
      "execution_count": 43,
      "outputs": [
        {
          "output_type": "stream",
          "name": "stdout",
          "text": [
            "79/79 [==============================] - 4s 42ms/step - loss: 1.8174 - accuracy: 0.6285\n",
            "Accuracy on test set: 0.63\n"
          ]
        }
      ]
    }
  ]
}